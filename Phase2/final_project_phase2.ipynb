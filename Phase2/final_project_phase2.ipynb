{
 "cells": [
  {
   "cell_type": "markdown",
   "metadata": {
    "colab_type": "text",
    "id": "view-in-github"
   },
   "source": [
    "<a href=\"https://colab.research.google.com/github/iu-data-science-python-i590/final-project-team-python-trio/blob/master/Phase2/final_project_phase2.ipynb\" target=\"_parent\"><img src=\"https://colab.research.google.com/assets/colab-badge.svg\" alt=\"Open In Colab\"/></a>"
   ]
  },
  {
   "cell_type": "markdown",
   "metadata": {
    "colab_type": "text",
    "id": "DxijMeBfTQ7V"
   },
   "source": [
    "## Analysis of K-means Clustering on Wisconsin Breast Cancer Data\n",
    "\n",
    "Phase 2.0 | 2018 November 13\n",
    "\n",
    "Bill Screen, Ha-Lan Nguyen, Tarun Rawat | Indiana University | M.S. Data Science\n",
    "\n",
    "#### PROBLEM STATEMENT: \n",
    "Breast cancer is a rising issue among women. A cancer’s stage is a crucial factor in deciding what treatment options to recommend, and in determining the patient’s prognosis. Today, in the United States, approximately one in eight women over their lifetime has a risk of developing breast cancer. An analysis of the most recent data has shown that the survival rate is 88% after 5 years of diagnosis and 80% after 10 years of diagnosis. With early detection and treatment, it is possible that this type of cancer will go into remission. In such a case, the worse fear of a cancer patient is the recurrence of the cancer.\n",
    "\n",
    "#### OBJECTIVE: \n",
    "This report will demonstrate how implementing a \"k-means\" algorithm can be used to classify benign and malign cells in two different groups."
   ]
  },
  {
   "cell_type": "markdown",
   "metadata": {
    "colab_type": "text",
    "id": "alfwK-HTufPj"
   },
   "source": [
    "#### Import Libraries"
   ]
  },
  {
   "cell_type": "code",
   "execution_count": 14,
   "metadata": {
    "colab": {},
    "colab_type": "code",
    "id": "2DuHarnpXKlw"
   },
   "outputs": [],
   "source": [
    "# Import Libraries\n",
    "import pandas as pd\n",
    "import matplotlib.pyplot as plt\n",
    "import numpy as np\n",
    "# import statistics\n",
    "from statistics import stdev\n",
    "from statistics import mean\n",
    "from scipy.stats import pearsonr\n",
    "from sklearn.cluster import KMeans\n",
    "from sklearn.pipeline import make_pipeline\n",
    "from sklearn.preprocessing import StandardScaler"
   ]
  },
  {
   "cell_type": "markdown",
   "metadata": {
    "colab_type": "text",
    "id": "2rzqowNvozIc"
   },
   "source": [
    "#### Load Data"
   ]
  },
  {
   "cell_type": "code",
   "execution_count": 15,
   "metadata": {
    "colab": {
     "base_uri": "https://localhost:8080/",
     "height": 204
    },
    "colab_type": "code",
    "id": "x1m7tozWozIh",
    "outputId": "3bebae6b-97d7-45a5-ba89-1bc07c43a2cc"
   },
   "outputs": [
    {
     "name": "stdout",
     "output_type": "stream",
     "text": [
      "         Scn  A2  A3  A4  A5  A6  A7  A8  A9  A10  CLASS\n",
      "82   1143978   5   2   1   1   2   1   3   1    1      2\n",
      "622  1140597   7   1   2   3   2   1   2   1    1      2\n",
      "411  1238464   1   1   1   1   1   ?   2   1    1      2\n",
      "317   709287   6   8   7   8   6   8   8   9    1      4\n",
      "532   869828   1   1   1   1   1   1   3   1    1      2\n",
      "273   428903   7   2   4   1   3   4   3   3    1      4\n",
      "198  1214092   1   1   1   1   2   1   1   1    1      2\n",
      "185  1206089   2   1   1   1   1   1   3   1    1      2\n",
      "458  1266124   5   1   2   1   2   1   1   1    1      2\n",
      "122  1174131  10  10  10   2  10  10   5   3    3      4\n"
     ]
    }
   ],
   "source": [
    "# Load data file into pandas Dataframe\n",
    "df = pd.read_csv('breast-cancer-wisconsin.csv')\n",
    "\n",
    "# Inspect data\n",
    "print(df.sample(n=10))"
   ]
  },
  {
   "cell_type": "markdown",
   "metadata": {
    "colab_type": "text",
    "id": "qf0Cp6blozIv"
   },
   "source": [
    "#### Impute missing values"
   ]
  },
  {
   "cell_type": "code",
   "execution_count": 16,
   "metadata": {
    "colab": {
     "base_uri": "https://localhost:8080/",
     "height": 119
    },
    "colab_type": "code",
    "id": "82URNMI9ozIx",
    "outputId": "a6c1515f-63aa-452a-91f9-c29bb20f4bb1"
   },
   "outputs": [
    {
     "name": "stdout",
     "output_type": "stream",
     "text": [
      "\n",
      " Column A7 contains 0 NaN rows before replacement\n",
      "\n",
      " Column A7 contains 16 NaN rows after replacement\n",
      "\n",
      " Column A7 contains 0 NaN rows after replacement of NaN with Mean\n"
     ]
    }
   ],
   "source": [
    "# Set NA character\n",
    "na_value_char = '?' \n",
    "\n",
    "# Check the number of NaN values in the DataFrame before replacement of ? with NaN\n",
    "print('\\n Column A7 contains {0} NaN rows before replacement'.format(df['A7'].isnull().sum()))\n",
    "\n",
    "# Replace ? by NaN in column A7\n",
    "df['A7'].replace(na_value_char, value=np.NaN, inplace=True)\n",
    "\n",
    "# Convert column A7 back to numeric\n",
    "df['A7'] = pd.to_numeric(df['A7'])\n",
    "\n",
    "# Check the number of NaN values in the DataFrame after replacement of ? with NaN\n",
    "print('\\n Column A7 contains {0} NaN rows after replacement'.format(df['A7'].isnull().sum()))\n",
    "\n",
    "# Replace NaN values with the mean of column A7 to the entire DataFrame\n",
    "df.fillna((df.mean(skipna=True)), inplace=True)\n",
    "\n",
    "# Convert all columns of DataFrame\n",
    "df = df.apply(pd.to_numeric)\n",
    "\n",
    "# Check the number of NaN values in the DataFrame after replacement of NaN with Mean\n",
    "print('\\n Column A7 contains {0} NaN rows after replacement of NaN with Mean'.format(df['A7'].isnull().sum()))"
   ]
  },
  {
   "cell_type": "markdown",
   "metadata": {
    "colab_type": "text",
    "id": "sAT2rfdzozI9"
   },
   "source": [
    "#### Use KMeans algorithm"
   ]
  },
  {
   "cell_type": "code",
   "execution_count": 17,
   "metadata": {
    "colab": {
     "base_uri": "https://localhost:8080/",
     "height": 272
    },
    "colab_type": "code",
    "id": "Rp_WVETEozJD",
    "outputId": "a24b0676-8b49-40e2-9134-16285d258a75"
   },
   "outputs": [
    {
     "name": "stdout",
     "output_type": "stream",
     "text": [
      "\n",
      " Calculated centroids:\n",
      "           0         1         2         3         4         5         6  \\\n",
      "0  6.762500  8.387500  8.425000  7.750000  6.775000  9.212500  7.375000   \n",
      "1  2.944934  1.244493  1.365639  1.292952  2.039648  1.351401  2.061674   \n",
      "2  7.234043  4.851064  5.042553  4.861702  4.117021  9.382979  5.265957   \n",
      "3  7.464789  7.028169  6.676056  4.197183  5.535211  3.453220  5.380282   \n",
      "\n",
      "          7         8  \n",
      "0  7.737500  3.787500  \n",
      "1  1.200441  1.077093  \n",
      "2  3.787234  1.648936  \n",
      "3  6.816901  2.309859  \n",
      "\n",
      "The centroids array is a 4 x 9 matrix: True\n"
     ]
    }
   ],
   "source": [
    "# Use only columns A2-A10\n",
    "data = df.loc[:, 'A2':'A10']\n",
    "\n",
    "# Use KMeans algorithm\n",
    "kmeans = KMeans(n_clusters=4)\n",
    "\n",
    "# Fit model to your data\n",
    "kmeans.fit(data)\n",
    "           \n",
    "# Calculate centroids\n",
    "centroids = kmeans.cluster_centers_\n",
    "\n",
    "# Print centroids\n",
    "print('\\n Calculated centroids:\\n {0}'.format(pd.DataFrame(centroids)))\n",
    "\n",
    "# Validate expected centroids array is 4 x 9 matrix\n",
    "cluster_shape_assert = (centroids.shape[0] == kmeans.n_clusters and centroids.shape[1] == len(data.columns))\n",
    "print('\\nThe centroids array is a 4 x 9 matrix: {0}'.format(cluster_shape_assert))"
   ]
  },
  {
   "cell_type": "markdown",
   "metadata": {
    "colab_type": "text",
    "id": "HXphzorw5vTL"
   },
   "source": [
    "#### Inspect clusters"
   ]
  },
  {
   "cell_type": "code",
   "execution_count": 18,
   "metadata": {
    "colab": {
     "base_uri": "https://localhost:8080/",
     "height": 364
    },
    "colab_type": "code",
    "id": "n7JBT9OP50kp",
    "outputId": "5c17600a-9102-4b09-9204-1046fe4bbee6"
   },
   "outputs": [
    {
     "data": {
      "text/plain": [
       "<matplotlib.collections.PathCollection at 0x1a79ffaf1d0>"
      ]
     },
     "execution_count": 18,
     "metadata": {},
     "output_type": "execute_result"
    },
    {
     "data": {
      "image/png": "[encoded data removed]",
      "text/plain": [
       "<Figure size 432x288 with 1 Axes>"
      ]
     },
     "metadata": {
      "needs_background": "light"
     },
     "output_type": "display_data"
    }
   ],
   "source": [
    "# Assign the columns of centroids: centroids_x, centroids_y\n",
    "centroids_x = centroids[:,0]\n",
    "centroids_y = centroids[:,1]\n",
    "\n",
    "# Make a scatter plot of centroids_x and centroids_y\n",
    "plt.scatter(data.A2, data.A3)\n",
    "plt.scatter(centroids_x, centroids_y, marker = 'X', s=150, c='black')"
   ]
  },
  {
   "cell_type": "markdown",
   "metadata": {
    "colab_type": "text",
    "id": "piWH_X9YozJS"
   },
   "source": [
    "#### Find the optimal number of clusters"
   ]
  },
  {
   "cell_type": "code",
   "execution_count": 19,
   "metadata": {
    "colab": {
     "base_uri": "https://localhost:8080/",
     "height": 376
    },
    "colab_type": "code",
    "id": "ni9O5toNozJU",
    "outputId": "30625378-f619-42a9-97bd-ca315f1649aa"
   },
   "outputs": [
    {
     "data": {
      "image/png": "[encoded data removed]",
      "text/plain": [
       "<Figure size 432x288 with 1 Axes>"
      ]
     },
     "metadata": {
      "needs_background": "light"
     },
     "output_type": "display_data"
    }
   ],
   "source": [
    "# Create a range from 1 to 15 or more\n",
    "ks = range(1, 15)\n",
    "\n",
    "# Create an empty list for inertias values\n",
    "inertias = []\n",
    "\n",
    "# Use for loop to calculate KMeans for each values\n",
    "for k in ks:\n",
    "    \n",
    "    # Create new model with k clusters\n",
    "    model = KMeans(n_clusters=k)\n",
    "    \n",
    "    # Fit model\n",
    "    model.fit(data)    \n",
    "    \n",
    "    # Append the inertia to the list of inertias\n",
    "    inertias.append(model.inertia_)\n",
    "\n",
    "# Plot range and inertia\n",
    "plt.plot(ks, inertias, '-o')\n",
    "\n",
    "# Add title, ylabel, xlabel\n",
    "plt.xlabel('Number of clusters (k)')\n",
    "plt.ylabel('Inertia')\n",
    "plt.title('Range vs Inertia')\n",
    "plt.xticks(ks)\n",
    "plt.show()"
   ]
  },
  {
   "cell_type": "markdown",
   "metadata": {
    "colab_type": "text",
    "id": "1TbKtAH-2p8O"
   },
   "source": [
    "#### How to determine the  best number of clusters\n",
    "\n",
    "\n",
    "The method used by us to identify the optimum number of clusters is the Elbow method. \n",
    "\n",
    "The approach of the Elbow method is to run k-means clustering on the dataset for a range of values of k (say, k from 1 to 10 in the examples above), and for each value of k calculate the sum of squared errors (SSE)\n",
    "\n",
    "Then we plot a line chart of the SSE for each value of k. If the line chart looks like an arm, then the \"elbow\" on the arm is the value of k that is the best. \n",
    "\n",
    "The idea is that we want a small SSE, but that the SSE tends to decrease toward 0 as we increase k (***the SSE is 0 when k is equal to the number of data points in the dataset, because then each data point is its own cluster, and there is no error between it and the center of its cluster***). \n",
    "\n",
    "So our goal is to choose a small value of k that still has a low SSE, and the elbow usually represents where we start to have diminishing returns by increasing k.\n",
    "\n",
    "Here we can see that the line chart plot has a distinct elblow at K = 2.\n",
    "Therefore we identied the optimum numbers of cluster as 2\n",
    "\n",
    "Reference : https://bl.ocks.org/rpgove/0060ff3b656618e9136b\n"
   ]
  },
  {
   "cell_type": "markdown",
   "metadata": {
    "colab_type": "text",
    "id": "N568-aQsozJf"
   },
   "source": [
    "#### Revise data variation"
   ]
  },
  {
   "cell_type": "code",
   "execution_count": 20,
   "metadata": {
    "colab": {
     "base_uri": "https://localhost:8080/",
     "height": 376
    },
    "colab_type": "code",
    "id": "nC4PrAmfozJj",
    "outputId": "9e0d0bf4-ec05-401b-c87e-0ec8b4db7294"
   },
   "outputs": [
    {
     "data": {
      "image/png": "[encoded data removed]",
      "text/plain": [
       "<Figure size 432x288 with 1 Axes>"
      ]
     },
     "metadata": {
      "needs_background": "light"
     },
     "output_type": "display_data"
    }
   ],
   "source": [
    "# Apply standard deviation function for columns A2-A10\n",
    "data_stdev = data.apply(stdev,axis=0)\n",
    "data_mean = data.apply(mean,axis=0)\n",
    "x = np.arange(len(data_mean))\n",
    "\n",
    "# Plot standard deviation values\n",
    "# --- Select a graphic that could display all nine values [do not use histogram]\n",
    "# --- Add title, legend, ylabel, xlabel. \n",
    "# --- Can you capture how wide or narrow is the variation in each column?\n",
    "fig, ax = plt.subplots()\n",
    "plt.title('Standard Deviation from Mean of columns A2-A10')\n",
    "plt.ylabel('Standard Deviation')\n",
    "plt.xlabel('Data Columns')\n",
    "ax.errorbar(x, data_mean, yerr=data_stdev, marker='o', linestyle='none', capsize=5, capthick=1, ecolor='red')\n",
    "plt.show()\n",
    "\n",
    "# print(data_mean)\n",
    "# print(data_stdev)\n",
    "# print(data.columns)\n",
    "\n",
    "# Describe which features have a lot of data variation\n",
    "# The graph shows attribute A7 \"Bare Nuclei\" (column 5) has the biggest variation. \n",
    "# The following attributes come second whose standard deviation from the mean is quite similar to each other: \n",
    "# A2 \"Clump Thickness\" (column 0), A3 \"Uniformity of Cell Size\" (clumn 1), A4 \"Uniformity of Cell Shape\" (column 2), A5 \"Marginal Adhesion\" (column 3), and A9 \"Normal Nuclei\" (column 7).\n"
   ]
  },
  {
   "cell_type": "markdown",
   "metadata": {},
   "source": [
    "#### Identify features which high variation"
   ]
  },
  {
   "cell_type": "code",
   "execution_count": 21,
   "metadata": {},
   "outputs": [
    {
     "name": "stdout",
     "output_type": "stream",
     "text": [
      "\n",
      "\n",
      "Listing columns with High Variation in values (upper limit of Std. Deviation/ Mean : 0.9 ) \n",
      "\n",
      "\n",
      "\n",
      "                 Mean  Std. Deviation  Std. Deviation/Mean\n",
      "Column Name                                               \n",
      "A3           3.134478        3.051459                 0.97\n",
      "A4           3.207439        2.971913                 0.93\n",
      "A5           2.806867        2.855379                 1.02\n",
      "A7           3.544656        3.601852                 1.02\n",
      "A9           2.866953        3.053634                 1.07\n",
      "A10          1.589413        1.715078                 1.08\n",
      "\n",
      "\n",
      "\n",
      "\n",
      "\n"
     ]
    }
   ],
   "source": [
    "# Describe which features have a lot of data variation\n",
    "\n",
    "# Set column headers\n",
    "column_headers = ['Column Name','Mean','Median','Std. Deviation', 'Variance', 'Std. Deviation/Mean']\n",
    "\n",
    "# Set column names\n",
    "column_names = df.columns.tolist()\n",
    "\n",
    "# Create array of row data\n",
    "row_data = []\n",
    "\n",
    "# Iterate over dataset and append column statitics to array\n",
    "# Find the mean, median, standard deviation and variance of each of the attributes A2 to A10.\n",
    "for column in column_names[column_names.index('A2') : column_names.index('A10') + 1]:\n",
    "  row_data.append([column, df[column].mean(), df[column].median(), df[column].std(), df[column].var(), \n",
    "                   round(df[column].std()/df[column].mean(),2)])\n",
    "\n",
    "# Convert array to DataFrame\n",
    "stats_df = pd.DataFrame(row_data, columns=column_headers)\n",
    "stats_df.set_index('Column Name', inplace=True)\n",
    "\n",
    "# Define upper limit of Std Deviation / Mean Ratio\n",
    "Std_Deviation_over_Mean_upper_limit = 0.9\n",
    "\n",
    "print('\\n\\nListing columns with High Variation in values (upper limit of Std. Deviation/ Mean : '\n",
    "      + str(Std_Deviation_over_Mean_upper_limit) + ' ) \\n\\n\\n')\n",
    "\n",
    "print(stats_df[stats_df['Std. Deviation/Mean'] > Std_Deviation_over_Mean_upper_limit][['Mean','Std. Deviation','Std. Deviation/Mean']])\n",
    "\n",
    "print('\\n\\n\\n\\n')"
   ]
  },
  {
   "cell_type": "markdown",
   "metadata": {
    "colab_type": "text",
    "id": "70EFm3yHozJt"
   },
   "source": [
    "#### Implement normalization"
   ]
  },
  {
   "cell_type": "code",
   "execution_count": 22,
   "metadata": {
    "colab": {
     "base_uri": "https://localhost:8080/",
     "height": 362
    },
    "colab_type": "code",
    "id": "xZ1g99znozJv",
    "outputId": "0d01e989-fb03-4b8f-adc7-83108ac2cdd0"
   },
   "outputs": [
    {
     "data": {
      "image/png": "[encoded data removed]",
      "text/plain": [
       "<Figure size 432x288 with 1 Axes>"
      ]
     },
     "metadata": {
      "needs_background": "light"
     },
     "output_type": "display_data"
    },
    {
     "name": "stdout",
     "output_type": "stream",
     "text": [
      "Centroid Coordinates :\n",
      "[ -0.49622256839000467,-0.6069004912536092 ]\n",
      "[ 0.9860833089801332,1.2060202069783288 ]\n"
     ]
    }
   ],
   "source": [
    "# Use the n_cluster based on the optimal number you have identified from Inertia\n",
    "\n",
    "# Create KMeans instance: kmeans\n",
    "kmeans = KMeans(n_clusters=2) # Using value of 2 based on Elbow method\n",
    "\n",
    "# Create StandardScaler instance: scaler\n",
    "scaler = StandardScaler()\n",
    "\n",
    "# Create pipeline: pipeline\n",
    "pipeline = make_pipeline(scaler,kmeans)\n",
    "pipeline.fit(data)\n",
    "labels = pipeline.predict(data)\n",
    "\n",
    "# Find centroids and print them\n",
    "\n",
    "# Calculate centroids\n",
    "centroids = kmeans.cluster_centers_\n",
    "\n",
    "# Assign the columns of centroids: centroids_x, centroids_y\n",
    "centroids_x = centroids[:,0]\n",
    "centroids_y = centroids[:,1]\n",
    "\n",
    "# Make a scatter plot of centroids_x and centroids_y\n",
    "# plt.scatter(data.A2, data.A3, c=labels)\n",
    "plt.scatter(data.A2, data.A4, c=labels)\n",
    "plt.scatter(centroids_x, centroids_y, marker='X', s=150, c='black')\n",
    "plt.title('KMeans with Normalization')\n",
    "plt.show()\n",
    "\n",
    "print('Centroid Coordinates :')\n",
    "print('[ ' + str(centroids_x[0]) + ',' + str(centroids_y[0]) + ' ]')\n",
    "print('[ ' + str(centroids_x[1]) + ',' + str(centroids_y[1]) + ' ]')"
   ]
  },
  {
   "cell_type": "code",
   "execution_count": null,
   "metadata": {},
   "outputs": [],
   "source": []
  }
 ],
 "metadata": {
  "colab": {
   "collapsed_sections": [],
   "include_colab_link": true,
   "name": "final_project_phase2.ipynb",
   "provenance": [],
   "toc_visible": true,
   "version": "0.3.2"
  },
  "kernelspec": {
   "display_name": "Python 3",
   "language": "python",
   "name": "python3"
  },
  "language_info": {
   "codemirror_mode": {
    "name": "ipython",
    "version": 3
   },
   "file_extension": ".py",
   "mimetype": "text/x-python",
   "name": "python",
   "nbconvert_exporter": "python",
   "pygments_lexer": "ipython3",
   "version": "3.7.0"
  }
 },
 "nbformat": 4,
 "nbformat_minor": 1
}
