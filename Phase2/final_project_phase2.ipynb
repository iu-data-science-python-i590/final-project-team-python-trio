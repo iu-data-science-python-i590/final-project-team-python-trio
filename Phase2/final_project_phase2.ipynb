{
  "nbformat": 4,
  "nbformat_minor": 0,
  "metadata": {
    "colab": {
      "name": "final_project_phase2.ipynb",
      "version": "0.3.2",
      "provenance": [],
      "collapsed_sections": [],
      "toc_visible": true,
      "include_colab_link": true
    },
    "kernelspec": {
      "display_name": "Python 3",
      "language": "python",
      "name": "python3"
    }
  },
  "cells": [
    {
      "cell_type": "markdown",
      "metadata": {
        "id": "view-in-github",
        "colab_type": "text"
      },
      "source": [
        "<a href=\"https://colab.research.google.com/github/iu-data-science-python-i590/final-project-team-python-trio/blob/master/Phase2/final_project_phase2.ipynb\" target=\"_parent\"><img src=\"https://colab.research.google.com/assets/colab-badge.svg\" alt=\"Open In Colab\"/></a>"
      ]
    },
    {
      "metadata": {
        "colab_type": "text",
        "id": "DxijMeBfTQ7V"
      },
      "cell_type": "markdown",
      "source": [
        "## Analysis of K-means Clustering on Wisconsin Breast Cancer Data\n",
        "\n",
        "Phase 2.0 | 2018 November 13\n",
        "\n",
        "Bill Screen, Ha-Lan Nguyen, Tarun Rawat | Indiana University | M.S. Data Science\n",
        "\n",
        "#### PROBLEM STATEMENT: \n",
        "Breast cancer is a rising issue among women. A cancer’s stage is a crucial factor in deciding what treatment options to recommend, and in determining the patient’s prognosis. Today, in the United States, approximately one in eight women over their lifetime has a risk of developing breast cancer. An analysis of the most recent data has shown that the survival rate is 88% after 5 years of diagnosis and 80% after 10 years of diagnosis. With early detection and treatment, it is possible that this type of cancer will go into remission. In such a case, the worse fear of a cancer patient is the recurrence of the cancer.\n",
        "\n",
        "#### OBJECTIVE: \n",
        "This report will demonstrate how implementing a \"k-means\" algorithm can be used to classify benign and malign cells in two different groups."
      ]
    },
    {
      "metadata": {
        "id": "alfwK-HTufPj",
        "colab_type": "text"
      },
      "cell_type": "markdown",
      "source": [
        "#### Import Libraries"
      ]
    },
    {
      "metadata": {
        "colab_type": "code",
        "id": "2DuHarnpXKlw",
        "colab": {}
      },
      "cell_type": "code",
      "source": [
        "# Import Libraries\n",
        "import pandas as pd\n",
        "import matplotlib.pyplot as plt\n",
        "import numpy as np\n",
        "import statistics\n",
        "from scipy.stats import pearsonr\n",
        "from sklearn.cluster import KMeans\n",
        "from sklearn.pipeline import make_pipeline\n",
        "from sklearn.preprocessing import StandardScaler"
      ],
      "execution_count": 0,
      "outputs": []
    },
    {
      "metadata": {
        "id": "2rzqowNvozIc",
        "colab_type": "text"
      },
      "cell_type": "markdown",
      "source": [
        "#### Load Data"
      ]
    },
    {
      "metadata": {
        "id": "x1m7tozWozIh",
        "colab_type": "code",
        "outputId": "4b9f20d9-ee75-46c2-fb05-c114d24fd766",
        "colab": {
          "base_uri": "https://localhost:8080/",
          "height": 204
        }
      },
      "cell_type": "code",
      "source": [
        "# Load data file into pandas Dataframe\n",
        "df = pd.read_csv('breast-cancer-wisconsin.csv')\n",
        "\n",
        "# Inspect data\n",
        "print(df.sample(n=10))"
      ],
      "execution_count": 3,
      "outputs": [
        {
          "output_type": "stream",
          "text": [
            "         Scn  A2  A3  A4  A5  A6  A7  A8  A9  A10  CLASS\n",
            "25   1065726   5   2   3   4   2   7   3   6    1      4\n",
            "558  1321348   2   1   1   1   2   1   2   1    1      2\n",
            "191  1211202   7   5  10  10  10  10   4  10    3      4\n",
            "26   1066373   3   2   1   1   1   1   2   1    1      2\n",
            "343   814911   1   1   1   1   2   1   1   1    1      2\n",
            "36   1080185  10  10  10   8   6   1   8   9    1      4\n",
            "280   486283   3   1   1   1   2   1   3   1    1      2\n",
            "331   764974   5   1   1   1   2   1   3   1    2      2\n",
            "282   488173   1   4   3  10   4  10   5   6    1      4\n",
            "213  1221863  10  10  10  10   7  10   7  10    4      4\n"
          ],
          "name": "stdout"
        }
      ]
    },
    {
      "metadata": {
        "id": "qf0Cp6blozIv",
        "colab_type": "text"
      },
      "cell_type": "markdown",
      "source": [
        "#### Impute missing values"
      ]
    },
    {
      "metadata": {
        "id": "82URNMI9ozIx",
        "colab_type": "code",
        "outputId": "a9eb6e7c-b7d0-45ac-8011-28d974dc0d36",
        "colab": {
          "base_uri": "https://localhost:8080/",
          "height": 119
        }
      },
      "cell_type": "code",
      "source": [
        "# Set NA character\n",
        "na_value_char = '?' \n",
        "\n",
        "# Check the number of NaN values in the DataFrame before replacement of ? with NaN\n",
        "print('\\n Column A7 contains {0} NaN rows before replacement'.format(df['A7'].isnull().sum()))\n",
        "\n",
        "# Replace ? by NaN in column A7\n",
        "df['A7'].replace(na_value_char, value=np.NaN, inplace=True)\n",
        "\n",
        "# Convert column A7 back to numeric\n",
        "df['A7'] = pd.to_numeric(df['A7'])\n",
        "\n",
        "# Check the number of NaN values in the DataFrame after replacement of ? with NaN\n",
        "print('\\n Column A7 contains {0} NaN rows after replacement'.format(df['A7'].isnull().sum()))\n",
        "\n",
        "# Replace NaN values with the mean of column A7 to the entire DataFrame\n",
        "df.fillna((df.mean(skipna=True)), inplace=True)\n",
        "\n",
        "# Convert all columns of DataFrame\n",
        "df = df.apply(pd.to_numeric)\n",
        "\n",
        "# Check the number of NaN values in the DataFrame after replacement of NaN with Mean\n",
        "print('\\n Column A7 contains {0} NaN rows after replacement of NaN with Mean'.format(df['A7'].isnull().sum()))"
      ],
      "execution_count": 4,
      "outputs": [
        {
          "output_type": "stream",
          "text": [
            "\n",
            " Column A7 contains 0 NaN rows before replacement\n",
            "\n",
            " Column A7 contains 16 NaN rows after replacement\n",
            "\n",
            " Column A7 contains 0 NaN rows after replacement of NaN with Mean\n"
          ],
          "name": "stdout"
        }
      ]
    },
    {
      "metadata": {
        "id": "sAT2rfdzozI9",
        "colab_type": "text"
      },
      "cell_type": "markdown",
      "source": [
        "#### Use KMeans algorithm"
      ]
    },
    {
      "metadata": {
        "id": "Rp_WVETEozJD",
        "colab_type": "code",
        "outputId": "69b05cbc-01fd-4408-8ef7-5eb559cc0cbc",
        "colab": {
          "base_uri": "https://localhost:8080/",
          "height": 272
        }
      },
      "cell_type": "code",
      "source": [
        "# Use only columns A2-A10\n",
        "data = df.loc[:, 'A2':'A10']\n",
        "\n",
        "# Use KMeans algorithm\n",
        "kmeans = KMeans(n_clusters=4)\n",
        "\n",
        "# Fit model to your data\n",
        "kmeans.fit(data)\n",
        "           \n",
        "# Calculate centroids\n",
        "centroids = kmeans.cluster_centers_\n",
        "\n",
        "# Print centroids\n",
        "print('\\n Calculated centroids:\\n {0}'.format(pd.DataFrame(centroids)))\n",
        "\n",
        "# Validate expected centroids array is 4 x 9 matrix\n",
        "cluster_shape_assert = (centroids.shape[0] == kmeans.n_clusters and centroids.shape[1] == len(data.columns))\n",
        "print('\\nThe centroids array is a 4 x 9 matrix: {0}'.format(cluster_shape_assert))\n"
      ],
      "execution_count": 5,
      "outputs": [
        {
          "output_type": "stream",
          "text": [
            "\n",
            " Calculated centroids:\n",
            "           0         1         2         3         4         5         6  \\\n",
            "0  7.464789  7.028169  6.676056  4.197183  5.535211  3.453220  5.380282   \n",
            "1  6.762500  8.387500  8.425000  7.750000  6.775000  9.212500  7.375000   \n",
            "2  7.234043  4.851064  5.042553  4.861702  4.117021  9.382979  5.265957   \n",
            "3  2.944934  1.244493  1.365639  1.292952  2.039648  1.351401  2.061674   \n",
            "\n",
            "          7         8  \n",
            "0  6.816901  2.309859  \n",
            "1  7.737500  3.787500  \n",
            "2  3.787234  1.648936  \n",
            "3  1.200441  1.077093  \n",
            "\n",
            "The centroids array is a 4 x 9 matrix: True\n"
          ],
          "name": "stdout"
        }
      ]
    },
    {
      "metadata": {
        "id": "piWH_X9YozJS",
        "colab_type": "text"
      },
      "cell_type": "markdown",
      "source": [
        "#### Find the optimal number of clusters"
      ]
    },
    {
      "metadata": {
        "id": "ni9O5toNozJU",
        "colab_type": "code",
        "colab": {
          "base_uri": "https://localhost:8080/",
          "height": 376
        },
        "outputId": "0f2629ab-e836-469a-cadd-df08b2867521"
      },
      "cell_type": "code",
      "source": [
        "# Create a range from 1 to 15 or more\n",
        "ks = range(1, 15)\n",
        "\n",
        "# Create an empty list for inertias values\n",
        "inertias = []\n",
        "\n",
        "# Use for loop to calculate KMeans for each values\n",
        "for k in ks:\n",
        "    \n",
        "    # Create new model with k clusters\n",
        "    model = KMeans(n_clusters=k)\n",
        "    \n",
        "    # Fit model\n",
        "    model.fit(data)    \n",
        "    \n",
        "    # Append the inertia to the list of inertias\n",
        "    inertias.append(model.inertia_)\n",
        "\n",
        "# Plot range and inertia\n",
        "plt.plot(ks, inertias, '-o')\n",
        "\n",
        "# Add title, ylabel, xlabel\n",
        "plt.xlabel(Number of clusters, k')\n",
        "plt.ylabel('Inertia')\n",
        "plt.title('Range vs Inertia')\n",
        "plt.xticks(ks)\n",
        "plt.show()"
      ],
      "execution_count": 7,
      "outputs": [
        {
          "output_type": "display_data",
          "data": {
            "image/png": "[encoded data removed]",
            "text/plain": [
              "<matplotlib.figure.Figure at 0x7f51615ba358>"
            ]
          },
          "metadata": {
            "tags": []
          }
        }
      ]
    },
    {
      "metadata": {
        "id": "1TbKtAH-2p8O",
        "colab_type": "text"
      },
      "cell_type": "markdown",
      "source": [
        "#### In your final project - explain how to determine the  best number of clusters\n",
        "\n",
        "**TODO: I like this explanation - let's rewrite and simplify **\n",
        "\n",
        "One method to validate the number of clusters is the elbow method. The idea of the elbow method is to run k-means clustering on the dataset for a range of values of k (say, k from 1 to 10 in the examples above), and for each value of k calculate the sum of squared errors (SSE)\n",
        "\n",
        "...plot a line chart of the SSE for each value of k. If the line chart looks like an arm, then the \"elbow\" on the arm is the value of k that is the best. \n",
        "\n",
        "The idea is that we want a small SSE, but that the SSE tends to decrease toward 0 as we increase k (***the SSE is 0 when k is equal to the number of data points in the dataset, because then each data point is its own cluster, and there is no error between it and the center of its cluster***). \n",
        "\n",
        "So our goal is to choose a small value of k that still has a low SSE, and the elbow usually represents where we start to have diminishing returns by increasing k.\n",
        "\n",
        "https://bl.ocks.org/rpgove/0060ff3b656618e9136b\n",
        "\n"
      ]
    },
    {
      "metadata": {
        "id": "N568-aQsozJf",
        "colab_type": "text"
      },
      "cell_type": "markdown",
      "source": [
        "#### Revise data variation"
      ]
    },
    {
      "metadata": {
        "id": "nC4PrAmfozJj",
        "colab_type": "code",
        "colab": {}
      },
      "cell_type": "code",
      "source": [
        "# Revise data variation"
      ],
      "execution_count": 0,
      "outputs": []
    },
    {
      "metadata": {
        "id": "70EFm3yHozJt",
        "colab_type": "text"
      },
      "cell_type": "markdown",
      "source": [
        "#### Implement normalization"
      ]
    },
    {
      "metadata": {
        "id": "xZ1g99znozJv",
        "colab_type": "code",
        "colab": {}
      },
      "cell_type": "code",
      "source": [
        "# Implement normalization"
      ],
      "execution_count": 0,
      "outputs": []
    }
  ]
}