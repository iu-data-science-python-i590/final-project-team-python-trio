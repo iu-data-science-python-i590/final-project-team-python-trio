{
  "nbformat": 4,
  "nbformat_minor": 0,
  "metadata": {
    "colab": {
      "name": "final_project_phase2.ipynb",
      "version": "0.3.2",
      "provenance": [],
      "collapsed_sections": [],
      "toc_visible": true,
      "include_colab_link": true
    },
    "kernelspec": {
      "display_name": "Python 3",
      "language": "python",
      "name": "python3"
    }
  },
  "cells": [
    {
      "cell_type": "markdown",
      "metadata": {
        "id": "view-in-github",
        "colab_type": "text"
      },
      "source": [
        "<a href=\"https://colab.research.google.com/github/iu-data-science-python-i590/final-project-team-python-trio/blob/master/Phase2/final_project_phase2.ipynb\" target=\"_parent\"><img src=\"https://colab.research.google.com/assets/colab-badge.svg\" alt=\"Open In Colab\"/></a>"
      ]
    },
    {
      "metadata": {
        "colab_type": "text",
        "id": "DxijMeBfTQ7V"
      },
      "cell_type": "markdown",
      "source": [
        "## Analysis of K-means Clustering on Wisconsin Breast Cancer Data\n",
        "\n",
        "Phase 2.0 | 2018 November 13\n",
        "\n",
        "Bill Screen, Ha-Lan Nguyen, Tarun Rawat | Indiana University | M.S. Data Science\n",
        "\n",
        "#### PROBLEM STATEMENT: \n",
        "Breast cancer is a rising issue among women. A cancer’s stage is a crucial factor in deciding what treatment options to recommend, and in determining the patient’s prognosis. Today, in the United States, approximately one in eight women over their lifetime has a risk of developing breast cancer. An analysis of the most recent data has shown that the survival rate is 88% after 5 years of diagnosis and 80% after 10 years of diagnosis. With early detection and treatment, it is possible that this type of cancer will go into remission. In such a case, the worse fear of a cancer patient is the recurrence of the cancer.\n",
        "\n",
        "#### OBJECTIVE: \n",
        "This report will demonstrate how implementing a \"k-means\" algorithm can be used to classify benign and malign cells in two different groups."
      ]
    },
    {
      "metadata": {
        "id": "alfwK-HTufPj",
        "colab_type": "text"
      },
      "cell_type": "markdown",
      "source": [
        "#### Import Libraries"
      ]
    },
    {
      "metadata": {
        "colab_type": "code",
        "id": "2DuHarnpXKlw",
        "colab": {}
      },
      "cell_type": "code",
      "source": [
        "# Import Libraries\n",
        "import pandas as pd\n",
        "import matplotlib.pyplot as plt\n",
        "import numpy as np\n",
        "import statistics\n",
        "from scipy.stats import pearsonr\n",
        "from sklearn.cluster import KMeans\n",
        "from sklearn.pipeline import make_pipeline\n",
        "from sklearn.preprocessing import StandardScaler"
      ],
      "execution_count": 0,
      "outputs": []
    },
    {
      "metadata": {
        "id": "2rzqowNvozIc",
        "colab_type": "text"
      },
      "cell_type": "markdown",
      "source": [
        "#### Load Data"
      ]
    },
    {
      "metadata": {
        "id": "x1m7tozWozIh",
        "colab_type": "code",
        "outputId": "75456813-52bf-4128-9364-4b223a813fab",
        "colab": {
          "base_uri": "https://localhost:8080/",
          "height": 204
        }
      },
      "cell_type": "code",
      "source": [
        "# Load data file into pandas Dataframe\n",
        "df = pd.read_csv('breast-cancer-wisconsin.csv')\n",
        "\n",
        "# Inspect data\n",
        "print(df.sample(n=10))"
      ],
      "execution_count": 0,
      "outputs": [
        {
          "output_type": "stream",
          "text": [
            "         Scn  A2  A3  A4  A5  A6  A7  A8  A9  A10  CLASS\n",
            "324   740492   1   1   1   1   2   1   3   1    1      2\n",
            "604   188336   5   3   2   8   5  10   8   1    2      4\n",
            "133  1180523   3   1   1   1   2   1   2   2    1      2\n",
            "233  1232225  10   4   5   5   5  10   4   1    1      4\n",
            "396  1176187   3   1   1   1   2   1   3   1    1      2\n",
            "63   1116132   6   3   4   1   5   2   3   9    1      4\n",
            "465  1296572  10   9   8   7   6   4   7  10    3      4\n",
            "54   1110524  10   5   5   6   8   8   7   1    1      4\n",
            "42   1100524   6  10  10   2   8  10   7   3    3      4\n",
            "491  1119189   5   8   9   4   3  10   7   1    1      4\n"
          ],
          "name": "stdout"
        }
      ]
    },
    {
      "metadata": {
        "id": "qf0Cp6blozIv",
        "colab_type": "text"
      },
      "cell_type": "markdown",
      "source": [
        "#### Impute missing values"
      ]
    },
    {
      "metadata": {
        "id": "82URNMI9ozIx",
        "colab_type": "code",
        "outputId": "b9065f4f-1310-40bb-d9e5-d1740eec9b32",
        "colab": {
          "base_uri": "https://localhost:8080/",
          "height": 119
        }
      },
      "cell_type": "code",
      "source": [
        "# Set NA character\n",
        "na_value_char = '?' \n",
        "\n",
        "# Check the number of NaN values in the DataFrame before replacement of ? with NaN\n",
        "print('\\n Column A7 contains {0} NaN rows before replacement'.format(df['A7'].isnull().sum()))\n",
        "\n",
        "# Replace ? by NaN in column A7\n",
        "df['A7'].replace(na_value_char, value=np.NaN, inplace=True)\n",
        "\n",
        "# Convert column A7 back to numeric\n",
        "df['A7'] = pd.to_numeric(df['A7'])\n",
        "\n",
        "# Check the number of NaN values in the DataFrame after replacement of ? with NaN\n",
        "print('\\n Column A7 contains {0} NaN rows after replacement'.format(df['A7'].isnull().sum()))\n",
        "\n",
        "# Replace NaN values with the mean of column A7 to the entire DataFrame\n",
        "df.fillna((df.mean(skipna=True)), inplace=True)\n",
        "\n",
        "# Convert all columns of DataFrame\n",
        "df = df.apply(pd.to_numeric)\n",
        "\n",
        "# Check the number of NaN values in the DataFrame after replacement of NaN with Mean\n",
        "print('\\n Column A7 contains {0} NaN rows after replacement of NaN with Mean'.format(df['A7'].isnull().sum()))"
      ],
      "execution_count": 0,
      "outputs": [
        {
          "output_type": "stream",
          "text": [
            "\n",
            " Column A7 contains 0 NaN rows before replacement\n",
            "\n",
            " Column A7 contains 16 NaN rows after replacement\n",
            "\n",
            " Column A7 contains 0 NaN rows after replacement of NaN with Mean\n"
          ],
          "name": "stdout"
        }
      ]
    },
    {
      "metadata": {
        "id": "sAT2rfdzozI9",
        "colab_type": "text"
      },
      "cell_type": "markdown",
      "source": [
        "#### Use KMeans algorithm"
      ]
    },
    {
      "metadata": {
        "id": "Rp_WVETEozJD",
        "colab_type": "code",
        "outputId": "cb9b5433-d621-40c7-acdf-f34255c1df07",
        "colab": {
          "base_uri": "https://localhost:8080/",
          "height": 272
        }
      },
      "cell_type": "code",
      "source": [
        "# Use only columns A2-A10\n",
        "data = df.loc[:, 'A2':'A10']\n",
        "\n",
        "# Use KMeans algorithm\n",
        "kmeans = KMeans(n_clusters=4)\n",
        "\n",
        "# Fit model to your data\n",
        "kmeans.fit(data)\n",
        "           \n",
        "# Calculate centroids\n",
        "centroids = kmeans.cluster_centers_\n",
        "\n",
        "# Print centroids\n",
        "print('\\n Calculated centroids:\\n {0}'.format(pd.DataFrame(centroids)))\n",
        "\n",
        "# Validate expected centroids array is 4 x 9 matrix\n",
        "cluster_shape_assert = (centroids.shape[0] == kmeans.n_clusters and centroids.shape[1] == len(data.columns))\n",
        "print('\\nThe centroids array is a 4 x 9 matrix: {0}'.format(cluster_shape_assert))\n"
      ],
      "execution_count": 0,
      "outputs": [
        {
          "output_type": "stream",
          "text": [
            "\n",
            " Calculated centroids:\n",
            "           0         1         2         3         4         5         6  \\\n",
            "0  2.944934  1.244493  1.365639  1.292952  2.039648  1.351401  2.061674   \n",
            "1  7.234043  4.851064  5.042553  4.861702  4.117021  9.382979  5.265957   \n",
            "2  7.464789  7.028169  6.676056  4.197183  5.535211  3.453220  5.380282   \n",
            "3  6.762500  8.387500  8.425000  7.750000  6.775000  9.212500  7.375000   \n",
            "\n",
            "          7         8  \n",
            "0  1.200441  1.077093  \n",
            "1  3.787234  1.648936  \n",
            "2  6.816901  2.309859  \n",
            "3  7.737500  3.787500  \n",
            "\n",
            "The centroids array is a 4 x 9 matrix: True\n"
          ],
          "name": "stdout"
        }
      ]
    },
    {
      "metadata": {
        "id": "piWH_X9YozJS",
        "colab_type": "text"
      },
      "cell_type": "markdown",
      "source": [
        "#### Find the optimal number of clusters"
      ]
    },
    {
      "metadata": {
        "id": "ni9O5toNozJU",
        "colab_type": "code",
        "colab": {}
      },
      "cell_type": "code",
      "source": [
        "# Find the optimal number of clusters"
      ],
      "execution_count": 0,
      "outputs": []
    },
    {
      "metadata": {
        "id": "N568-aQsozJf",
        "colab_type": "text"
      },
      "cell_type": "markdown",
      "source": [
        "#### Revise data variation"
      ]
    },
    {
      "metadata": {
        "id": "nC4PrAmfozJj",
        "colab_type": "code",
        "colab": {}
      },
      "cell_type": "code",
      "source": [
        "# Revise data variation"
      ],
      "execution_count": 0,
      "outputs": []
    },
    {
      "metadata": {
        "id": "70EFm3yHozJt",
        "colab_type": "text"
      },
      "cell_type": "markdown",
      "source": [
        "#### Implement normalization"
      ]
    },
    {
      "metadata": {
        "id": "xZ1g99znozJv",
        "colab_type": "code",
        "colab": {}
      },
      "cell_type": "code",
      "source": [
        "# Implement normalization"
      ],
      "execution_count": 0,
      "outputs": []
    }
  ]
}