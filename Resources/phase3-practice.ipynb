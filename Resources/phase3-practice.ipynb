{
 "cells": [
  {
   "cell_type": "markdown",
   "metadata": {},
   "source": [
    "## PHASE 3 Practice"
   ]
  },
  {
   "cell_type": "markdown",
   "metadata": {},
   "source": [
    "Additional practice on how to work with columns and values of dataframe"
   ]
  },
  {
   "cell_type": "code",
   "execution_count": 1,
   "metadata": {
    "collapsed": true
   },
   "outputs": [],
   "source": [
    "import pandas as pd"
   ]
  },
  {
   "cell_type": "code",
   "execution_count": 9,
   "metadata": {
    "collapsed": true
   },
   "outputs": [],
   "source": [
    "data = [[2,0],[2,1],[4,1],[2,0],[4,0],[4,0],[2,1],[4,1],[4,2]]\n",
    "df = pd.DataFrame(data,columns=['CLASS','newdata'])"
   ]
  },
  {
   "cell_type": "markdown",
   "metadata": {},
   "source": [
    " create a new column named mylabels and copy the values from newdata column"
   ]
  },
  {
   "cell_type": "code",
   "execution_count": 10,
   "metadata": {
    "collapsed": false
   },
   "outputs": [],
   "source": [
    "df['mylabels'] = df['newdata']"
   ]
  },
  {
   "cell_type": "markdown",
   "metadata": {},
   "source": [
    "print the first 3 records"
   ]
  },
  {
   "cell_type": "code",
   "execution_count": 28,
   "metadata": {
    "collapsed": false
   },
   "outputs": [
    {
     "name": "stdout",
     "output_type": "stream",
     "text": [
      "   CLASS  newdata  mylabels\n",
      "0      2        0         2\n",
      "1      2        1         4\n",
      "2      4        1         4\n"
     ]
    }
   ],
   "source": [
    "print(df.head(n=3))"
   ]
  },
  {
   "cell_type": "markdown",
   "metadata": {},
   "source": [
    "replace zeros by 2, replace 1 by 4"
   ]
  },
  {
   "cell_type": "code",
   "execution_count": 13,
   "metadata": {
    "collapsed": false
   },
   "outputs": [],
   "source": [
    "df['mylabels'] = df['mylabels'].replace(0, 2)"
   ]
  },
  {
   "cell_type": "code",
   "execution_count": 21,
   "metadata": {
    "collapsed": true
   },
   "outputs": [],
   "source": [
    "# your turn - replace 1 by 4\n"
   ]
  },
  {
   "cell_type": "markdown",
   "metadata": {},
   "source": [
    "count how many 2 and 4 values in mylabels columns. See how it is done for column CLASS"
   ]
  },
  {
   "cell_type": "code",
   "execution_count": 27,
   "metadata": {
    "collapsed": false
   },
   "outputs": [
    {
     "data": {
      "text/plain": [
       "4    5\n",
       "2    4\n",
       "Name: CLASS, dtype: int64"
      ]
     },
     "execution_count": 27,
     "metadata": {},
     "output_type": "execute_result"
    }
   ],
   "source": [
    "#this is one of the possibilities\n",
    "df['CLASS'].value_counts()"
   ]
  },
  {
   "cell_type": "markdown",
   "metadata": {},
   "source": [
    "count how many labels (=2) that are in CLASS have value of 4"
   ]
  },
  {
   "cell_type": "code",
   "execution_count": 26,
   "metadata": {
    "collapsed": true
   },
   "outputs": [],
   "source": [
    "# this is one of the possibilities\n",
    "labels_class = df.groupby('mylabels')['CLASS'].value_counts()"
   ]
  },
  {
   "cell_type": "code",
   "execution_count": 23,
   "metadata": {
    "collapsed": false
   },
   "outputs": [
    {
     "data": {
      "text/plain": [
       "mylabels  CLASS\n",
       "2         4        3\n",
       "          2        2\n",
       "4         2        2\n",
       "          4        2\n",
       "Name: CLASS, dtype: int64"
      ]
     },
     "execution_count": 23,
     "metadata": {},
     "output_type": "execute_result"
    }
   ],
   "source": [
    "labels_class"
   ]
  },
  {
   "cell_type": "markdown",
   "metadata": {},
   "source": [
    "### create formulas - \n",
    "\n",
    "- error for benign\n",
    "\n",
    "B = total number of points with predicted labels = 4 that correspond to CLASS = 2 / total number of predicted labels = 2\n",
    "\n",
    "- error for malign\n",
    "\n",
    "M = total number of points with predicted labels = 2 that correspond to CLASS = 4 / total number of predicted labels = 4\n",
    "\n",
    "- total error rate\n",
    "\n",
    "total number of points with predicted labels that do NOT correspond to CLASS  / total number of datapoints\n"
   ]
  },
  {
   "cell_type": "code",
   "execution_count": 25,
   "metadata": {
    "collapsed": false
   },
   "outputs": [],
   "source": [
    "# create variables for formulas (you can change names): you will need a total with labels = 4, labels = 2, \n",
    "# labels = 2 but with Class = 4, labels = 4 but with Class = 2\n",
    "\n",
    "#Practice and apply whatever you find works for you to assign values. The minimum is to enter values manually, \n",
    "# but strive to add them automatically \n",
    "\n",
    "#totlabel4\n",
    "#totlabel2\n",
    "#totwrong2\n",
    "#totwrong4\n",
    "#totaldata\n",
    "#totlabelnotclass"
   ]
  },
  {
   "cell_type": "code",
   "execution_count": null,
   "metadata": {
    "collapsed": true
   },
   "outputs": [],
   "source": []
  }
 ],
 "metadata": {
  "kernelspec": {
   "display_name": "Python 3",
   "language": "python",
   "name": "python3"
  },
  "language_info": {
   "codemirror_mode": {
    "name": "ipython",
    "version": 3
   },
   "file_extension": ".py",
   "mimetype": "text/x-python",
   "name": "python",
   "nbconvert_exporter": "python",
   "pygments_lexer": "ipython3",
   "version": "3.6.3"
  }
 },
 "nbformat": 4,
 "nbformat_minor": 2
}
