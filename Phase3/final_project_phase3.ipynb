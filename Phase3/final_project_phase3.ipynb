{
  "nbformat": 4,
  "nbformat_minor": 0,
  "metadata": {
    "colab": {
      "name": "final_project_phase3.ipynb",
      "version": "0.3.2",
      "provenance": [],
      "collapsed_sections": [],
      "toc_visible": true,
      "include_colab_link": true
    },
    "kernelspec": {
      "display_name": "Python 3",
      "language": "python",
      "name": "python3"
    }
  },
  "cells": [
    {
      "cell_type": "markdown",
      "metadata": {
        "id": "view-in-github",
        "colab_type": "text"
      },
      "source": [
        "<a href=\"https://colab.research.google.com/github/iu-data-science-python-i590/final-project-team-python-trio/blob/master/Phase3/final_project_phase3.ipynb\" target=\"_parent\"><img src=\"https://colab.research.google.com/assets/colab-badge.svg\" alt=\"Open In Colab\"/></a>"
      ]
    },
    {
      "metadata": {
        "colab_type": "text",
        "id": "DxijMeBfTQ7V"
      },
      "cell_type": "markdown",
      "source": [
        "## Analysis of K-means Clustering on Wisconsin Breast Cancer Data\n",
        "\n",
        "Phase 3.0 | 2018 December 2\n",
        "\n",
        "Bill Screen, Ha-Lan Nguyen, Tarun Rawat | Indiana University | M.S. Data Science\n",
        "\n",
        "#### PROBLEM STATEMENT: \n",
        "Breast cancer is a rising issue among women. A cancer’s stage is a crucial factor in deciding what treatment options to recommend, and in determining the patient’s prognosis. Today, in the United States, approximately one in eight women over their lifetime has a risk of developing breast cancer. An analysis of the most recent data has shown that the survival rate is 88% after 5 years of diagnosis and 80% after 10 years of diagnosis. With early detection and treatment, it is possible that this type of cancer will go into remission. In such a case, the worse fear of a cancer patient is the recurrence of the cancer.\n",
        "\n",
        "#### OBJECTIVE: \n",
        "This report will demonstrate how implementing a \"k-means\" algorithm can be used to classify benign and malign cells in two different groups."
      ]
    },
    {
      "metadata": {
        "colab_type": "text",
        "id": "alfwK-HTufPj"
      },
      "cell_type": "markdown",
      "source": [
        "#### Import Libraries"
      ]
    },
    {
      "metadata": {
        "colab_type": "code",
        "id": "2DuHarnpXKlw",
        "colab": {}
      },
      "cell_type": "code",
      "source": [
        "# Import Libraries\n",
        "\n",
        "%matplotlib inline\n",
        "import pandas as pd\n",
        "import matplotlib.pylab as plt\n",
        "import numpy as np\n",
        "from statistics import stdev\n",
        "from statistics import mean\n",
        "from scipy.stats import pearsonr\n",
        "from sklearn.cluster import KMeans\n",
        "from sklearn.pipeline import make_pipeline\n",
        "from sklearn.preprocessing import StandardScaler"
      ],
      "execution_count": 0,
      "outputs": []
    },
    {
      "metadata": {
        "colab_type": "text",
        "id": "2rzqowNvozIc"
      },
      "cell_type": "markdown",
      "source": [
        "#### Load Data"
      ]
    },
    {
      "metadata": {
        "colab_type": "code",
        "id": "x1m7tozWozIh",
        "outputId": "6e8bea83-a354-4472-e918-c5b6130c546e",
        "colab": {
          "base_uri": "https://localhost:8080/",
          "height": 204
        }
      },
      "cell_type": "code",
      "source": [
        "# Load data file into pandas Dataframe\n",
        "df = pd.read_csv('breast-cancer-wisconsin.csv')\n",
        "\n",
        "# Inspect data\n",
        "print(df.sample(n=10))"
      ],
      "execution_count": 36,
      "outputs": [
        {
          "output_type": "stream",
          "text": [
            "         Scn  A2  A3  A4  A5  A6  A7  A8  A9  A10  CLASS\n",
            "196  1213375   8   4   4   5   4   7   7   8    2      2\n",
            "501  1238186   4   1   1   1   2   1   2   1    1      2\n",
            "167  1198128  10   8  10  10   6   1   3   1   10      4\n",
            "607   411453   1   1   1   1   2   1   1   1    1      2\n",
            "473  1269574   4   1   1   1   2   1   1   1    1      2\n",
            "323   733823   5   4   6  10   2  10   4   1    1      4\n",
            "35   1079304   2   1   1   1   2   1   2   1    1      2\n",
            "486  1070522   3   1   1   1   1   1   2   1    1      2\n",
            "236  1241559  10   8   8   2   8  10   4   8   10      4\n",
            "556  1321264   5   2   2   2   1   1   2   1    1      2\n"
          ],
          "name": "stdout"
        }
      ]
    },
    {
      "metadata": {
        "colab_type": "text",
        "id": "qf0Cp6blozIv"
      },
      "cell_type": "markdown",
      "source": [
        "#### Impute missing values"
      ]
    },
    {
      "metadata": {
        "colab_type": "code",
        "id": "82URNMI9ozIx",
        "outputId": "ec0f2532-32db-404b-effa-e25bd09eecf7",
        "colab": {
          "base_uri": "https://localhost:8080/",
          "height": 119
        }
      },
      "cell_type": "code",
      "source": [
        "# Set NA character\n",
        "na_value_char = '?' \n",
        "\n",
        "# Check the number of NaN values in the DataFrame before replacement of ? with NaN\n",
        "print('\\n Column A7 contains {0} NaN rows before replacement'.format(df['A7'].isnull().sum()))\n",
        "\n",
        "# Replace ? by NaN in column A7\n",
        "df['A7'].replace(na_value_char, value=np.NaN, inplace=True)\n",
        "\n",
        "# Convert column A7 back to numeric\n",
        "df['A7'] = pd.to_numeric(df['A7'])\n",
        "\n",
        "# Check the number of NaN values in the DataFrame after replacement of ? with NaN\n",
        "print('\\n Column A7 contains {0} NaN rows after replacement'.format(df['A7'].isnull().sum()))\n",
        "\n",
        "# Replace NaN values with the mean of column A7 to the entire DataFrame\n",
        "df.fillna((df.mean(skipna=True)), inplace=True)\n",
        "\n",
        "# Convert all columns of DataFrame\n",
        "df = df.apply(pd.to_numeric)\n",
        "\n",
        "# Check the number of NaN values in the DataFrame after replacement of NaN with Mean\n",
        "print('\\n Column A7 contains {0} NaN rows after replacement of NaN with Mean'.format(df['A7'].isnull().sum()))"
      ],
      "execution_count": 37,
      "outputs": [
        {
          "output_type": "stream",
          "text": [
            "\n",
            " Column A7 contains 0 NaN rows before replacement\n",
            "\n",
            " Column A7 contains 16 NaN rows after replacement\n",
            "\n",
            " Column A7 contains 0 NaN rows after replacement of NaN with Mean\n"
          ],
          "name": "stdout"
        }
      ]
    },
    {
      "metadata": {
        "colab_type": "text",
        "id": "sAT2rfdzozI9"
      },
      "cell_type": "markdown",
      "source": [
        "#### Use KMeans algorithm"
      ]
    },
    {
      "metadata": {
        "colab_type": "code",
        "id": "Rp_WVETEozJD",
        "outputId": "a672c60c-5469-459f-c7aa-f95f5e739414",
        "colab": {
          "base_uri": "https://localhost:8080/",
          "height": 595
        }
      },
      "cell_type": "code",
      "source": [
        "# Use only columns A2-CLASS\n",
        "df = df.loc[:, 'A2':'CLASS']\n",
        "\n",
        "# Use KMeans algorithm\n",
        "# Set iteration to 500, initial centroids to 20, and n_clusters to 2\n",
        "kmeans = KMeans(n_init=20, max_iter=500, n_clusters=2)\n",
        "\n",
        "# Fit model to your data\n",
        "kmeans.fit(df)\n",
        "\n",
        "# Predict labels\n",
        "# Save predicted clusters into a variable labels\n",
        "labels = kmeans.predict(df)\n",
        "\n",
        "# Create a new column in your dataframe and add Kmeans labels.\n",
        "df['kmeans_labels'] = labels\n",
        "\n",
        "# Change labels values so that 0 becomes 2 and 1 becomes 4.\n",
        "df['kmeans_labels'] = df['kmeans_labels'].replace(0, 2)\n",
        "df['kmeans_labels'] = df['kmeans_labels'].replace(1, 4)\n",
        "\n",
        "# Print the first 15 records from your dataframe\n",
        "print(df.head(15))\n",
        "\n",
        "# Count how many 2 and 4 values in KMeans label columns.\n",
        "print('\\n Distinct counts for CLASS')\n",
        "print(df['CLASS'].value_counts())\n",
        "print('\\n Distinct counts for kmeans_labels')\n",
        "print(df['kmeans_labels'].value_counts())\n",
        "\n",
        "# Count how many labels (=2) that are in CLASS have value of 4\n",
        "print('\\n Count how many labels (=2) that are in CLASS have value of 4')\n",
        "labels_class = df.groupby('kmeans_labels')['CLASS'].value_counts()\n",
        "print(labels_class)"
      ],
      "execution_count": 38,
      "outputs": [
        {
          "output_type": "stream",
          "text": [
            "    A2  A3  A4  A5  A6    A7  A8  A9  A10  CLASS  kmeans_labels\n",
            "0    5   1   1   1   2   1.0   3   1    1      2              2\n",
            "1    5   4   4   5   7  10.0   3   2    1      2              4\n",
            "2    3   1   1   1   2   2.0   3   1    1      2              2\n",
            "3    6   8   8   1   3   4.0   3   7    1      2              4\n",
            "4    4   1   1   3   2   1.0   3   1    1      2              2\n",
            "5    8  10  10   8   7  10.0   9   7    1      4              4\n",
            "6    1   1   1   1   2  10.0   3   1    1      2              2\n",
            "7    2   1   2   1   2   1.0   3   1    1      2              2\n",
            "8    2   1   1   1   2   1.0   1   1    5      2              2\n",
            "9    4   2   1   1   2   1.0   2   1    1      2              2\n",
            "10   1   1   1   1   1   1.0   3   1    1      2              2\n",
            "11   2   1   1   1   2   1.0   2   1    1      2              2\n",
            "12   5   3   3   3   2   3.0   4   4    1      4              2\n",
            "13   1   1   1   1   2   3.0   3   1    1      2              2\n",
            "14   8   7   5  10   7   9.0   5   5    4      4              4\n",
            "\n",
            " Distinct counts for CLASS\n",
            "2    458\n",
            "4    241\n",
            "Name: CLASS, dtype: int64\n",
            "\n",
            " Distinct counts for kmeans_labels\n",
            "2    462\n",
            "4    237\n",
            "Name: kmeans_labels, dtype: int64\n",
            "\n",
            " Count how many labels (=2) that are in CLASS have value of 4\n",
            "kmeans_labels  CLASS\n",
            "2              2        447\n",
            "               4         15\n",
            "4              4        226\n",
            "               2         11\n",
            "Name: CLASS, dtype: int64\n"
          ],
          "name": "stdout"
        }
      ]
    },
    {
      "metadata": {
        "colab_type": "text",
        "id": "HXphzorw5vTL"
      },
      "cell_type": "markdown",
      "source": [
        "#### Error Rate Function"
      ]
    },
    {
      "metadata": {
        "id": "ioNBR2CX9otm",
        "colab_type": "text"
      },
      "cell_type": "markdown",
      "source": [
        "#### Report"
      ]
    }
  ]
}