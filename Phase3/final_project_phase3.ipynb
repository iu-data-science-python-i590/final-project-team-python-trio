{
 "cells": [
  {
   "cell_type": "markdown",
   "metadata": {
    "colab_type": "text",
    "id": "view-in-github"
   },
   "source": [
    "<a href=\"https://colab.research.google.com/github/iu-data-science-python-i590/final-project-team-python-trio/blob/master/Phase3/final_project_phase3.ipynb\" target=\"_parent\"><img src=\"https://colab.research.google.com/assets/colab-badge.svg\" alt=\"Open In Colab\"/></a>"
   ]
  },
  {
   "cell_type": "markdown",
   "metadata": {
    "colab_type": "text",
    "id": "DxijMeBfTQ7V"
   },
   "source": [
    "## Analysis of K-means Clustering on Wisconsin Breast Cancer Data\n",
    "\n",
    "Phase 3.0 | 2018 December 2\n",
    "\n",
    "Bill Screen, Ha-Lan Nguyen, Tarun Rawat | Indiana University | M.S. Data Science\n",
    "\n",
    "#### PROBLEM STATEMENT: \n",
    "Breast cancer is a rising issue among women. A cancer’s stage is a crucial factor in deciding what treatment options to recommend, and in determining the patient’s prognosis. Today, in the United States, approximately one in eight women over their lifetime has a risk of developing breast cancer. An analysis of the most recent data has shown that the survival rate is 88% after 5 years of diagnosis and 80% after 10 years of diagnosis. With early detection and treatment, it is possible that this type of cancer will go into remission. In such a case, the worse fear of a cancer patient is the recurrence of the cancer.\n",
    "\n",
    "#### OBJECTIVE: \n",
    "This report will demonstrate how implementing a \"k-means\" algorithm can be used to classify benign and malign cells in two different groups."
   ]
  },
  {
   "cell_type": "markdown",
   "metadata": {
    "colab_type": "text",
    "id": "alfwK-HTufPj"
   },
   "source": [
    "#### Import Libraries"
   ]
  },
  {
   "cell_type": "code",
   "execution_count": 31,
   "metadata": {
    "colab": {},
    "colab_type": "code",
    "id": "2DuHarnpXKlw"
   },
   "outputs": [],
   "source": [
    "# Import Libraries\n",
    "\n",
    "%matplotlib inline\n",
    "import pandas as pd\n",
    "import matplotlib.pylab as plt\n",
    "import numpy as np\n",
    "from statistics import stdev\n",
    "from statistics import mean\n",
    "from scipy.stats import pearsonr\n",
    "from sklearn.cluster import KMeans\n",
    "from sklearn.pipeline import make_pipeline\n",
    "from sklearn.preprocessing import StandardScaler"
   ]
  },
  {
   "cell_type": "markdown",
   "metadata": {
    "colab_type": "text",
    "id": "2rzqowNvozIc"
   },
   "source": [
    "#### Load Data"
   ]
  },
  {
   "cell_type": "code",
   "execution_count": 32,
   "metadata": {
    "colab": {
     "base_uri": "https://localhost:8080/",
     "height": 204
    },
    "colab_type": "code",
    "id": "x1m7tozWozIh",
    "outputId": "6e8bea83-a354-4472-e918-c5b6130c546e"
   },
   "outputs": [
    {
     "name": "stdout",
     "output_type": "stream",
     "text": [
      "         Scn  A2  A3  A4  A5  A6  A7  A8  A9  A10  CLASS\n",
      "78   1133136   3   1   1   1   2   3   3   1    1      2\n",
      "459  1267898   5   1   3   1   2   1   1   1    1      2\n",
      "99   1166630   7   5   6  10   5  10   7   9    4      4\n",
      "120  1174057   1   1   2   2   2   1   3   1    1      2\n",
      "498  1204558   4   1   1   1   2   1   2   1    1      2\n",
      "24   1059552   1   1   1   1   2   1   3   1    1      2\n",
      "509  1297522   2   1   1   1   2   1   1   1    1      2\n",
      "219  1223967   6   1   3   1   2   1   3   1    1      2\n",
      "103  1168359   8   2   3   1   6   3   7   1    1      4\n",
      "409  1237674   3   1   2   1   2   1   2   1    1      2\n"
     ]
    }
   ],
   "source": [
    "# Load data file into pandas Dataframe\n",
    "df = pd.read_csv('breast-cancer-wisconsin.csv')\n",
    "\n",
    "# Inspect data\n",
    "print(df.sample(n=10))"
   ]
  },
  {
   "cell_type": "markdown",
   "metadata": {
    "colab_type": "text",
    "id": "qf0Cp6blozIv"
   },
   "source": [
    "#### Impute missing values"
   ]
  },
  {
   "cell_type": "code",
   "execution_count": 33,
   "metadata": {
    "colab": {
     "base_uri": "https://localhost:8080/",
     "height": 119
    },
    "colab_type": "code",
    "id": "82URNMI9ozIx",
    "outputId": "ec0f2532-32db-404b-effa-e25bd09eecf7"
   },
   "outputs": [
    {
     "name": "stdout",
     "output_type": "stream",
     "text": [
      "\n",
      " Column A7 contains 0 NaN rows before replacement\n",
      "\n",
      " Column A7 contains 16 NaN rows after replacement\n",
      "\n",
      " Column A7 contains 0 NaN rows after replacement of NaN with Mean\n"
     ]
    }
   ],
   "source": [
    "# Set NA character\n",
    "na_value_char = '?' \n",
    "\n",
    "# Check the number of NaN values in the DataFrame before replacement of ? with NaN\n",
    "print('\\n Column A7 contains {0} NaN rows before replacement'.format(df['A7'].isnull().sum()))\n",
    "\n",
    "# Replace ? by NaN in column A7\n",
    "df['A7'].replace(na_value_char, value=np.NaN, inplace=True)\n",
    "\n",
    "# Convert column A7 back to numeric\n",
    "df['A7'] = pd.to_numeric(df['A7'])\n",
    "\n",
    "# Check the number of NaN values in the DataFrame after replacement of ? with NaN\n",
    "print('\\n Column A7 contains {0} NaN rows after replacement'.format(df['A7'].isnull().sum()))\n",
    "\n",
    "# Replace NaN values with the mean of column A7 to the entire DataFrame\n",
    "df.fillna((df.mean(skipna=True)), inplace=True)\n",
    "\n",
    "# Convert all columns of DataFrame\n",
    "df = df.apply(pd.to_numeric)\n",
    "\n",
    "# Check the number of NaN values in the DataFrame after replacement of NaN with Mean\n",
    "print('\\n Column A7 contains {0} NaN rows after replacement of NaN with Mean'.format(df['A7'].isnull().sum()))"
   ]
  },
  {
   "cell_type": "markdown",
   "metadata": {
    "colab_type": "text",
    "id": "sAT2rfdzozI9"
   },
   "source": [
    "#### Use KMeans algorithm"
   ]
  },
  {
   "cell_type": "code",
   "execution_count": 34,
   "metadata": {
    "colab": {
     "base_uri": "https://localhost:8080/",
     "height": 595
    },
    "colab_type": "code",
    "id": "Rp_WVETEozJD",
    "outputId": "a672c60c-5469-459f-c7aa-f95f5e739414"
   },
   "outputs": [
    {
     "name": "stdout",
     "output_type": "stream",
     "text": [
      "    A2  A3  A4  A5  A6    A7  A8  A9  A10  CLASS  kmeans_labels\n",
      "0    5   1   1   1   2   1.0   3   1    1      2              2\n",
      "1    5   4   4   5   7  10.0   3   2    1      2              4\n",
      "2    3   1   1   1   2   2.0   3   1    1      2              2\n",
      "3    6   8   8   1   3   4.0   3   7    1      2              4\n",
      "4    4   1   1   3   2   1.0   3   1    1      2              2\n",
      "5    8  10  10   8   7  10.0   9   7    1      4              4\n",
      "6    1   1   1   1   2  10.0   3   1    1      2              2\n",
      "7    2   1   2   1   2   1.0   3   1    1      2              2\n",
      "8    2   1   1   1   2   1.0   1   1    5      2              2\n",
      "9    4   2   1   1   2   1.0   2   1    1      2              2\n",
      "10   1   1   1   1   1   1.0   3   1    1      2              2\n",
      "11   2   1   1   1   2   1.0   2   1    1      2              2\n",
      "12   5   3   3   3   2   3.0   4   4    1      4              2\n",
      "13   1   1   1   1   2   3.0   3   1    1      2              2\n",
      "14   8   7   5  10   7   9.0   5   5    4      4              4\n",
      "\n",
      " Distinct counts for CLASS\n",
      "2    458\n",
      "4    241\n",
      "Name: CLASS, dtype: int64\n",
      "\n",
      " Distinct counts for kmeans_labels\n",
      "2    462\n",
      "4    237\n",
      "Name: kmeans_labels, dtype: int64\n",
      "\n",
      " Count how many labels (=2) that are in CLASS have value of 4\n",
      "kmeans_labels  CLASS\n",
      "2              2        447\n",
      "               4         15\n",
      "4              4        226\n",
      "               2         11\n",
      "Name: CLASS, dtype: int64\n"
     ]
    }
   ],
   "source": [
    "# Use only columns A2-CLASS\n",
    "df = df.loc[:, 'A2':'CLASS']\n",
    "\n",
    "# Use KMeans algorithm\n",
    "# Set iteration to 500, initial centroids to 20, and n_clusters to 2\n",
    "kmeans = KMeans(n_init=20, max_iter=500, n_clusters=2)\n",
    "\n",
    "# Fit model to your data\n",
    "kmeans.fit(df)\n",
    "\n",
    "# Predict labels\n",
    "# Save predicted clusters into a variable labels\n",
    "labels = kmeans.predict(df)\n",
    "\n",
    "# Create a new column in your dataframe and add Kmeans labels.\n",
    "df['kmeans_labels'] = labels\n",
    "\n",
    "\n",
    "# Change labels values so that 0 becomes 2 and 1 becomes 4.\n",
    "df['kmeans_labels'] = df['kmeans_labels'].replace(0, 2)\n",
    "df['kmeans_labels'] = df['kmeans_labels'].replace(1, 4)\n",
    "\n",
    "# Print the first 15 records from your dataframe\n",
    "print(df.head(15))\n",
    "\n",
    "# Count how many 2 and 4 values in KMeans label columns.\n",
    "print('\\n Distinct counts for CLASS')\n",
    "print(df['CLASS'].value_counts())\n",
    "print('\\n Distinct counts for kmeans_labels')\n",
    "print(df['kmeans_labels'].value_counts())\n",
    "\n",
    "# Count how many labels (=2) that are in CLASS have value of 4\n",
    "print('\\n Count how many labels (=2) that are in CLASS have value of 4')\n",
    "labels_class = df.groupby('kmeans_labels')['CLASS'].value_counts()\n",
    "print(labels_class)\n"
   ]
  },
  {
   "cell_type": "markdown",
   "metadata": {
    "colab_type": "text",
    "id": "HXphzorw5vTL"
   },
   "source": [
    "#### Error Rate Function"
   ]
  },
  {
   "cell_type": "code",
   "execution_count": 35,
   "metadata": {},
   "outputs": [
    {
     "name": "stdout",
     "output_type": "stream",
     "text": [
      "Error Rates \n",
      "Error Rate for Benign : 0.02\n",
      "Error Rate for Malign : 0.06\n",
      "Total Error Rate : 0.04\n"
     ]
    }
   ],
   "source": [
    "def ErrorRate(column_labels, column_class):\n",
    "    # create a temp dataframe to be able to perform different calculations\n",
    "    temp_df = pd.DataFrame()\n",
    "    temp_df['column_labels'] = column_labels\n",
    "    temp_df['column_class'] = column_class\n",
    "    \n",
    "    #print(temp_df)\n",
    "    \n",
    "    #Calculate different counts for the formulae\n",
    "    count_label_2 = len(temp_df[temp_df['column_labels']==2])\n",
    "    count_label_4 = len(temp_df[temp_df['column_labels']==4])\n",
    "    count_data_points = len(temp_df)\n",
    "    \n",
    "    count_label_4_class_2 = len(temp_df[ (temp_df['column_labels']==4) & (temp_df['column_class']==2) ])\n",
    "    count_label_2_class_4 = len(temp_df[ (temp_df['column_labels']==2) & (temp_df['column_class']==4) ])\n",
    "    count_label_not_equal_class = len(temp_df[ (temp_df['column_labels']!=temp_df['column_class']) ])\n",
    "    \n",
    "    # Use calculated values in formulae to calculate error\n",
    "    error_rate_benign_cells = round(count_label_4_class_2/count_label_2,2)\n",
    "    error_rate_malign_cells = round(count_label_2_class_4/count_label_4,2)\n",
    "    total_error_rate = round(count_label_not_equal_class/count_data_points,2)\n",
    "    \n",
    "    return error_rate_benign_cells, error_rate_malign_cells, total_error_rate\n",
    "    \n",
    "# Call the ErrorRate function and store values in variables    \n",
    "error_rate_benign_cells, error_rate_malign_cells, total_error_rate = ErrorRate(df['kmeans_labels'],df['CLASS'])\n",
    "\n",
    "# Print the error rates\n",
    "print('Error Rates ')\n",
    "\n",
    "print('Error Rate for Benign : '+str(error_rate_benign_cells))\n",
    "print('Error Rate for Malign : '+str(error_rate_malign_cells))\n",
    "print('Total Error Rate : '+str(total_error_rate))"
   ]
  },
  {
   "cell_type": "markdown",
   "metadata": {
    "colab_type": "text",
    "id": "ioNBR2CX9otm"
   },
   "source": [
    "#### Report"
   ]
  }
 ],
 "metadata": {
  "colab": {
   "collapsed_sections": [],
   "include_colab_link": true,
   "name": "final_project_phase3.ipynb",
   "provenance": [],
   "toc_visible": true,
   "version": "0.3.2"
  },
  "kernelspec": {
   "display_name": "Python 3",
   "language": "python",
   "name": "python3"
  },
  "language_info": {
   "codemirror_mode": {
    "name": "ipython",
    "version": 3
   },
   "file_extension": ".py",
   "mimetype": "text/x-python",
   "name": "python",
   "nbconvert_exporter": "python",
   "pygments_lexer": "ipython3",
   "version": "3.7.0"
  }
 },
 "nbformat": 4,
 "nbformat_minor": 1
}
