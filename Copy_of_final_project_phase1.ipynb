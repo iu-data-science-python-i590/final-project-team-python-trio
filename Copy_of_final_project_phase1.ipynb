{
  "nbformat": 4,
  "nbformat_minor": 0,
  "metadata": {
    "colab": {
      "name": "Copy of final_project_phase1.ipynb",
      "version": "0.3.2",
      "provenance": [],
      "toc_visible": true,
      "include_colab_link": true
    },
    "kernelspec": {
      "name": "python3",
      "display_name": "Python 3"
    }
  },
  "cells": [
    {
      "cell_type": "markdown",
      "metadata": {
        "id": "view-in-github",
        "colab_type": "text"
      },
      "source": [
        "<a href=\"https://colab.research.google.com/github/iu-data-science-python-i590/final-project-team-python-trio/blob/master/Copy_of_final_project_phase1.ipynb\" target=\"_parent\"><img src=\"https://colab.research.google.com/assets/colab-badge.svg\" alt=\"Open In Colab\"/></a>"
      ]
    },
    {
      "metadata": {
        "id": "DxijMeBfTQ7V",
        "colab_type": "text"
      },
      "cell_type": "markdown",
      "source": [
        "## Analysis of K-means Clustering on Wisconsin Breast Cancer Data\n",
        "\n",
        "Phase 1.0 | 2018 October 24\n",
        "\n",
        "Bill Screen, Ha-Lan Nguyen, Tarun Rawat | Indiana University | M.S. Data Science\n",
        "\n",
        "#### PROBLEM STATEMENT: \n",
        "Breast cancer is a rising issue among women. A cancer’s stage is a crucial factor in deciding what treatment options to recommend, and in determining the patient’s prognosis. Today, in the United States, approximately one in eight women over their lifetime has a risk of developing breast cancer. An analysis of the most recent data has shown that the survival rate is 88% after 5 years of diagnosis and 80% after 10 years of diagnosis. With early detection and treatment, it is possible that this type of cancer will go into remission. In such a case, the worse fear of a cancer patient is the recurrence of the cancer.\n",
        "\n",
        "#### OBJECTIVE: \n",
        "This report will demonstrate how implementing a \"k-means\" algorithm can be used to classify benign and malign cells in two different groups.\n",
        "\n",
        "---"
      ]
    },
    {
      "metadata": {
        "id": "Kh7cFFZd5UVB",
        "colab_type": "text"
      },
      "cell_type": "markdown",
      "source": [
        "#### Phase 1 Tasks\n",
        "\n",
        "- Download the data and load it in Python\n",
        "- Add Headers (Scn A2 A3 A4 A5 A6 A7 A8 A9 A10 CLASS)\n",
        "- Input missing values \n",
        "- Plot basic graphs\n",
        "- Compute data statistics"
      ]
    },
    {
      "metadata": {
        "id": "Widhoq_94H_G",
        "colab_type": "text"
      },
      "cell_type": "markdown",
      "source": [
        "#### Import Libraries\n",
        "\n",
        "---"
      ]
    },
    {
      "metadata": {
        "id": "WTckRS3E4Tpx",
        "colab_type": "code",
        "colab": {}
      },
      "cell_type": "code",
      "source": [
        "# Import Libraries\n",
        "%matplotlib inline\n",
        "import pandas as pd\n",
        "import pylab as plt\n",
        "import numpy as np\n",
        "from collections import defaultdict, Counter"
      ],
      "execution_count": 0,
      "outputs": []
    },
    {
      "metadata": {
        "id": "7wFCHwF64frV",
        "colab_type": "text"
      },
      "cell_type": "markdown",
      "source": [
        "#### Load Data\n",
        "---"
      ]
    },
    {
      "metadata": {
        "id": "bGF50aDE4hYR",
        "colab_type": "code",
        "outputId": "c6d59c7c-affc-4f91-af17-71d9f2ad3983",
        "colab": {
          "base_uri": "https://localhost:8080/",
          "height": 119
        }
      },
      "cell_type": "code",
      "source": [
        "# Download the data and load it in Python\n",
        "data = pd.read_csv('breast-cancer-wisconsin.data')\n",
        "print(data.head())"
      ],
      "execution_count": 0,
      "outputs": [
        {
          "output_type": "stream",
          "text": [
            "   1000025  5   1  1.1  1.2  2 1.3  3  1.4  1.5  2.1\n",
            "0  1002945  5   4    4    5  7  10  3    2    1    2\n",
            "1  1015425  3   1    1    1  2   2  3    1    1    2\n",
            "2  1016277  6   8    8    1  3   4  3    7    1    2\n",
            "3  1017023  4   1    1    3  2   1  3    1    1    2\n",
            "4  1017122  8  10   10    8  7  10  9    7    1    4\n"
          ],
          "name": "stdout"
        }
      ]
    }
  ]
}