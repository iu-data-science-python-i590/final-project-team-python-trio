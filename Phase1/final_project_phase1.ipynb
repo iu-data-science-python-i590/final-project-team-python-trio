{
  "nbformat": 4,
  "nbformat_minor": 0,
  "metadata": {
    "colab": {
      "name": "final_project_phase1.ipynb",
      "version": "0.3.2",
      "provenance": [],
      "toc_visible": true,
      "include_colab_link": true
    },
    "kernelspec": {
      "name": "python3",
      "display_name": "Python 3"
    }
  },
  "cells": [
    {
      "cell_type": "markdown",
      "metadata": {
        "id": "view-in-github",
        "colab_type": "text"
      },
      "source": [
        "<a href=\"https://colab.research.google.com/github/iu-data-science-python-i590/final-project-team-python-trio/blob/master/Phase1/final_project_phase1.ipynb\" target=\"_parent\"><img src=\"https://colab.research.google.com/assets/colab-badge.svg\" alt=\"Open In Colab\"/></a>"
      ]
    },
    {
      "metadata": {
        "id": "DxijMeBfTQ7V",
        "colab_type": "text"
      },
      "cell_type": "markdown",
      "source": [
        "## Analysis of K-means Clustering on Wisconsin Breast Cancer Data\n",
        "\n",
        "Phase 1.0 | 2018 October 24\n",
        "\n",
        "Bill Screen, Ha-Lan Nguyen, Tarun Rawat | Indiana University | M.S. Data Science\n",
        "\n",
        "#### PROBLEM STATEMENT: \n",
        "Breast cancer is a rising issue among women. A cancer’s stage is a crucial factor in deciding what treatment options to recommend, and in determining the patient’s prognosis. Today, in the United States, approximately one in eight women over their lifetime has a risk of developing breast cancer. An analysis of the most recent data has shown that the survival rate is 88% after 5 years of diagnosis and 80% after 10 years of diagnosis. With early detection and treatment, it is possible that this type of cancer will go into remission. In such a case, the worse fear of a cancer patient is the recurrence of the cancer.\n",
        "\n",
        "#### OBJECTIVE: \n",
        "This report will demonstrate how implementing a \"k-means\" algorithm can be used to classify benign and malign cells in two different groups.\n",
        "\n",
        "---"
      ]
    },
    {
      "metadata": {
        "id": "Kh7cFFZd5UVB",
        "colab_type": "text"
      },
      "cell_type": "markdown",
      "source": [
        "#### Phase 1 Tasks\n",
        "\n",
        "- Download the data and load it in Python\n",
        "- Add Headers (Scn A2 A3 A4 A5 A6 A7 A8 A9 A10 CLASS)\n",
        "- Impute missing values \n",
        "- Plot basic graphs\n",
        "- Compute data statistics"
      ]
    },
    {
      "metadata": {
        "id": "Widhoq_94H_G",
        "colab_type": "text"
      },
      "cell_type": "markdown",
      "source": [
        "#### Import Libraries\n",
        "\n",
        "---"
      ]
    },
    {
      "metadata": {
        "id": "WTckRS3E4Tpx",
        "colab_type": "code",
        "colab": {}
      },
      "cell_type": "code",
      "source": [
        "# Import Libraries\n",
        "%matplotlib inline\n",
        "import pandas as pd\n",
        "import pylab as plt\n",
        "import numpy as np\n",
        "from collections import defaultdict, Counter"
      ],
      "execution_count": 0,
      "outputs": []
    },
    {
      "metadata": {
        "id": "7wFCHwF64frV",
        "colab_type": "text"
      },
      "cell_type": "markdown",
      "source": [
        "#### Load Data\n",
        "---"
      ]
    },
    {
      "metadata": {
        "id": "bGF50aDE4hYR",
        "colab_type": "code",
        "colab": {
          "base_uri": "https://localhost:8080/",
          "height": 306
        },
        "outputId": "600d5bcc-2d35-4c33-b778-ac3ba5a36171"
      },
      "cell_type": "code",
      "source": [
        "# Set header column names\n",
        "column_names = ['Scn','A2','A3','A4','A5','A6','A7','A8','A9','A10','CLASS']\n",
        "\n",
        "# Set NA character\n",
        "na_value_char = '?' \n",
        "\n",
        "# Load data file into pandas Dataframe\n",
        "df = pd.read_csv('breast-cancer-wisconsin.data', names=column_names, na_values=na_value_char)\n",
        "\n",
        "# Inspect data\n",
        "# print(data.head(n=100))\n",
        "# print(df[df['A7'].apply(np.isnan)])"
      ],
      "execution_count": 15,
      "outputs": [
        {
          "output_type": "stream",
          "text": [
            "         Scn  A2  A3  A4  A5  A6  A7  A8  A9  A10  CLASS\n",
            "23   1057013   8   4   5   1   2 NaN   7   3    1      4\n",
            "40   1096800   6   6   6   9   6 NaN   7   8    1      2\n",
            "139  1183246   1   1   1   1   1 NaN   2   1    1      2\n",
            "145  1184840   1   1   3   1   2 NaN   2   1    1      2\n",
            "158  1193683   1   1   2   1   3 NaN   1   1    1      2\n",
            "164  1197510   5   1   1   1   2 NaN   3   1    1      2\n",
            "235  1241232   3   1   4   1   2 NaN   3   1    1      2\n",
            "249   169356   3   1   1   1   2 NaN   3   1    1      2\n",
            "275   432809   3   1   3   1   2 NaN   2   1    1      2\n",
            "292   563649   8   8   8   1   2 NaN   6  10    1      4\n",
            "294   606140   1   1   1   1   2 NaN   2   1    1      2\n",
            "297    61634   5   4   3   1   2 NaN   2   3    1      2\n",
            "315   704168   4   6   5   6   7 NaN   4   9    1      2\n",
            "321   733639   3   1   1   1   2 NaN   3   1    1      2\n",
            "411  1238464   1   1   1   1   1 NaN   2   1    1      2\n",
            "617  1057067   1   1   1   1   1 NaN   1   1    1      2\n"
          ],
          "name": "stdout"
        }
      ]
    },
    {
      "metadata": {
        "id": "EnVN19B4GQ_l",
        "colab_type": "text"
      },
      "cell_type": "markdown",
      "source": [
        "#### Impute missing values"
      ]
    },
    {
      "metadata": {
        "id": "cO7cEIXjMDb-",
        "colab_type": "code",
        "colab": {
          "base_uri": "https://localhost:8080/",
          "height": 68
        },
        "outputId": "aed99474-4455-481a-d3cc-2cf17aa8184a"
      },
      "cell_type": "code",
      "source": [
        "# Replace NaN values with the mean value in column A7\n",
        "df['A7'].fillna((df['A7'].mean()), inplace=True)\n",
        "\n",
        "# Inspect data\n",
        "# print(data.head(n=100))\n",
        "# print(df[df['A7'].apply(np.isnan)])"
      ],
      "execution_count": 17,
      "outputs": [
        {
          "output_type": "stream",
          "text": [
            "Empty DataFrame\n",
            "Columns: [Scn, A2, A3, A4, A5, A6, A7, A8, A9, A10, CLASS]\n",
            "Index: []\n"
          ],
          "name": "stdout"
        }
      ]
    }
  ]
}