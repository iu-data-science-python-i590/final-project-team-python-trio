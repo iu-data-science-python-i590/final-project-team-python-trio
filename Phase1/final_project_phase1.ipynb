{
  "nbformat": 4,
  "nbformat_minor": 0,
  "metadata": {
    "colab": {
      "name": "final_project_phase1.ipynb",
      "version": "0.3.2",
      "provenance": [],
      "toc_visible": true,
      "include_colab_link": true
    },
    "kernelspec": {
      "name": "python3",
      "display_name": "Python 3"
    }
  },
  "cells": [
    {
      "cell_type": "markdown",
      "metadata": {
        "id": "view-in-github",
        "colab_type": "text"
      },
      "source": [
        "<a href=\"https://colab.research.google.com/github/iu-data-science-python-i590/final-project-team-python-trio/blob/master/Phase1/final_project_phase1.ipynb\" target=\"_parent\"><img src=\"https://colab.research.google.com/assets/colab-badge.svg\" alt=\"Open In Colab\"/></a>"
      ]
    },
    {
      "metadata": {
        "id": "DxijMeBfTQ7V",
        "colab_type": "text"
      },
      "cell_type": "markdown",
      "source": [
        "## Analysis of K-means Clustering on Wisconsin Breast Cancer Data\n",
        "\n",
        "Phase 1.0 | 2018 October 24\n",
        "\n",
        "Bill Screen, Ha-Lan Nguyen, Tarun Rawat | Indiana University | M.S. Data Science\n",
        "\n",
        "#### PROBLEM STATEMENT: \n",
        "Breast cancer is a rising issue among women. A cancer’s stage is a crucial factor in deciding what treatment options to recommend, and in determining the patient’s prognosis. Today, in the United States, approximately one in eight women over their lifetime has a risk of developing breast cancer. An analysis of the most recent data has shown that the survival rate is 88% after 5 years of diagnosis and 80% after 10 years of diagnosis. With early detection and treatment, it is possible that this type of cancer will go into remission. In such a case, the worse fear of a cancer patient is the recurrence of the cancer.\n",
        "\n",
        "#### OBJECTIVE: \n",
        "This report will demonstrate how implementing a \"k-means\" algorithm can be used to classify benign and malign cells in two different groups.\n",
        "\n",
        "---"
      ]
    },
    {
      "metadata": {
        "id": "Kh7cFFZd5UVB",
        "colab_type": "text"
      },
      "cell_type": "markdown",
      "source": [
        "#### Phase 1 Tasks\n",
        "\n",
        "- Download the data and load it in Python\n",
        "- Add Headers (Scn A2 A3 A4 A5 A6 A7 A8 A9 A10 CLASS)\n",
        "- Input missing values \n",
        "- Plot basic graphs\n",
        "- Compute data statistics"
      ]
    },
    {
      "metadata": {
        "id": "Widhoq_94H_G",
        "colab_type": "text"
      },
      "cell_type": "markdown",
      "source": [
        "#### Import Libraries\n",
        "\n",
        "---"
      ]
    },
    {
      "metadata": {
        "id": "WTckRS3E4Tpx",
        "colab_type": "code",
        "colab": {}
      },
      "cell_type": "code",
      "source": [
        "# Import Libraries\n",
        "%matplotlib inline\n",
        "import pandas as pd\n",
        "import pylab as plt\n",
        "import numpy as np\n",
        "from collections import defaultdict, Counter"
      ],
      "execution_count": 0,
      "outputs": []
    },
    {
      "metadata": {
        "id": "7wFCHwF64frV",
        "colab_type": "text"
      },
      "cell_type": "markdown",
      "source": [
        "#### Load Data\n",
        "---"
      ]
    },
    {
      "metadata": {
        "id": "bGF50aDE4hYR",
        "colab_type": "code",
        "colab": {
          "base_uri": "https://localhost:8080/",
          "height": 1105
        },
        "outputId": "b3afe7ef-81c2-4c96-9686-505a5ef6c741"
      },
      "cell_type": "code",
      "source": [
        "# Download the data and load it in Python\n",
        "data = pd.read_csv('breast-cancer-wisconsin.data',na_values='?')\n",
        "print(data.head(n=100))"
      ],
      "execution_count": 11,
      "outputs": [
        {
          "output_type": "stream",
          "text": [
            "    1000025   5   1  1.1  1.2   2   1.3  3  1.4  1.5  2.1\n",
            "0   1002945   5   4    4    5   7  10.0  3    2    1    2\n",
            "1   1015425   3   1    1    1   2   2.0  3    1    1    2\n",
            "2   1016277   6   8    8    1   3   4.0  3    7    1    2\n",
            "3   1017023   4   1    1    3   2   1.0  3    1    1    2\n",
            "4   1017122   8  10   10    8   7  10.0  9    7    1    4\n",
            "5   1018099   1   1    1    1   2  10.0  3    1    1    2\n",
            "6   1018561   2   1    2    1   2   1.0  3    1    1    2\n",
            "7   1033078   2   1    1    1   2   1.0  1    1    5    2\n",
            "8   1033078   4   2    1    1   2   1.0  2    1    1    2\n",
            "9   1035283   1   1    1    1   1   1.0  3    1    1    2\n",
            "10  1036172   2   1    1    1   2   1.0  2    1    1    2\n",
            "11  1041801   5   3    3    3   2   3.0  4    4    1    4\n",
            "12  1043999   1   1    1    1   2   3.0  3    1    1    2\n",
            "13  1044572   8   7    5   10   7   9.0  5    5    4    4\n",
            "14  1047630   7   4    6    4   6   1.0  4    3    1    4\n",
            "15  1048672   4   1    1    1   2   1.0  2    1    1    2\n",
            "16  1049815   4   1    1    1   2   1.0  3    1    1    2\n",
            "17  1050670  10   7    7    6   4  10.0  4    1    2    4\n",
            "18  1050718   6   1    1    1   2   1.0  3    1    1    2\n",
            "19  1054590   7   3    2   10   5  10.0  5    4    4    4\n",
            "20  1054593  10   5    5    3   6   7.0  7   10    1    4\n",
            "21  1056784   3   1    1    1   2   1.0  2    1    1    2\n",
            "22  1057013   8   4    5    1   2   NaN  7    3    1    4\n",
            "23  1059552   1   1    1    1   2   1.0  3    1    1    2\n",
            "24  1065726   5   2    3    4   2   7.0  3    6    1    4\n",
            "25  1066373   3   2    1    1   1   1.0  2    1    1    2\n",
            "26  1066979   5   1    1    1   2   1.0  2    1    1    2\n",
            "27  1067444   2   1    1    1   2   1.0  2    1    1    2\n",
            "28  1070935   1   1    3    1   2   1.0  1    1    1    2\n",
            "29  1070935   3   1    1    1   1   1.0  2    1    1    2\n",
            "..      ...  ..  ..  ...  ...  ..   ... ..  ...  ...  ...\n",
            "70  1123061   6  10    2    8  10   2.0  7    8   10    4\n",
            "71  1124651   1   3    3    2   2   1.0  7    2    1    2\n",
            "72  1125035   9   4    5   10   6  10.0  4    8    1    4\n",
            "73  1126417  10   6    4    1   3   4.0  3    2    3    4\n",
            "74  1131294   1   1    2    1   2   2.0  4    2    1    2\n",
            "75  1132347   1   1    4    1   2   1.0  2    1    1    2\n",
            "76  1133041   5   3    1    2   2   1.0  2    1    1    2\n",
            "77  1133136   3   1    1    1   2   3.0  3    1    1    2\n",
            "78  1136142   2   1    1    1   3   1.0  2    1    1    2\n",
            "79  1137156   2   2    2    1   1   1.0  7    1    1    2\n",
            "80  1143978   4   1    1    2   2   1.0  2    1    1    2\n",
            "81  1143978   5   2    1    1   2   1.0  3    1    1    2\n",
            "82  1147044   3   1    1    1   2   2.0  7    1    1    2\n",
            "83  1147699   3   5    7    8   8   9.0  7   10    7    4\n",
            "84  1147748   5  10    6    1  10   4.0  4   10   10    4\n",
            "85  1148278   3   3    6    4   5   8.0  4    4    1    4\n",
            "86  1148873   3   6    6    6   5  10.0  6    8    3    4\n",
            "87  1152331   4   1    1    1   2   1.0  3    1    1    2\n",
            "88  1155546   2   1    1    2   3   1.0  2    1    1    2\n",
            "89  1156272   1   1    1    1   2   1.0  3    1    1    2\n",
            "90  1156948   3   1    1    2   2   1.0  1    1    1    2\n",
            "91  1157734   4   1    1    1   2   1.0  3    1    1    2\n",
            "92  1158247   1   1    1    1   2   1.0  2    1    1    2\n",
            "93  1160476   2   1    1    1   2   1.0  3    1    1    2\n",
            "94  1164066   1   1    1    1   2   1.0  3    1    1    2\n",
            "95  1165297   2   1    1    2   2   1.0  1    1    1    2\n",
            "96  1165790   5   1    1    1   2   1.0  3    1    1    2\n",
            "97  1165926   9   6    9    2  10   6.0  2    9   10    4\n",
            "98  1166630   7   5    6   10   5  10.0  7    9    4    4\n",
            "99  1166654  10   3    5    1  10   5.0  3   10    2    4\n",
            "\n",
            "[100 rows x 11 columns]\n"
          ],
          "name": "stdout"
        }
      ]
    }
  ]
}