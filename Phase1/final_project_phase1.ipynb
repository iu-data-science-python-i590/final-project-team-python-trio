{
  "nbformat": 4,
  "nbformat_minor": 0,
  "metadata": {
    "colab": {
      "name": "final_project_phase1.ipynb",
      "version": "0.3.2",
      "provenance": [],
      "toc_visible": true,
      "include_colab_link": true
    },
    "kernelspec": {
      "name": "python3",
      "display_name": "Python 3"
    }
  },
  "cells": [
    {
      "cell_type": "markdown",
      "metadata": {
        "id": "view-in-github",
        "colab_type": "text"
      },
      "source": [
        "<a href=\"https://colab.research.google.com/github/iu-data-science-python-i590/final-project-team-python-trio/blob/master/Phase1/final_project_phase1.ipynb\" target=\"_parent\"><img src=\"https://colab.research.google.com/assets/colab-badge.svg\" alt=\"Open In Colab\"/></a>"
      ]
    },
    {
      "metadata": {
        "id": "DxijMeBfTQ7V",
        "colab_type": "text"
      },
      "cell_type": "markdown",
      "source": [
        "## Analysis of K-means Clustering on Wisconsin Breast Cancer Data\n",
        "\n",
        "Phase 1.0 | 2018 October 24\n",
        "\n",
        "Bill Screen, Ha-Lan Nguyen, Tarun Rawat | Indiana University | M.S. Data Science\n",
        "\n",
        "#### PROBLEM STATEMENT: \n",
        "Breast cancer is a rising issue among women. A cancer’s stage is a crucial factor in deciding what treatment options to recommend, and in determining the patient’s prognosis. Today, in the United States, approximately one in eight women over their lifetime has a risk of developing breast cancer. An analysis of the most recent data has shown that the survival rate is 88% after 5 years of diagnosis and 80% after 10 years of diagnosis. With early detection and treatment, it is possible that this type of cancer will go into remission. In such a case, the worse fear of a cancer patient is the recurrence of the cancer.\n",
        "\n",
        "#### OBJECTIVE: \n",
        "This report will demonstrate how implementing a \"k-means\" algorithm can be used to classify benign and malign cells in two different groups.\n",
        "\n",
        "#### PHASE 1 TASKS\n",
        "\n",
        "- Download the data and load it in Python\n",
        "- Add Headers (Scn A2 A3 A4 A5 A6 A7 A8 A9 A10 CLASS)\n",
        "- Impute missing values \n",
        "- Plot basic graphs\n",
        "- Compute data statistics\n",
        "---"
      ]
    },
    {
      "metadata": {
        "id": "Widhoq_94H_G",
        "colab_type": "text"
      },
      "cell_type": "markdown",
      "source": [
        "#### Import Libraries"
      ]
    },
    {
      "metadata": {
        "id": "WTckRS3E4Tpx",
        "colab_type": "code",
        "colab": {}
      },
      "cell_type": "code",
      "source": [
        "# Import Libraries\n",
        "%matplotlib inline\n",
        "import pandas as pd\n",
        "import pylab as plt\n",
        "import numpy as np\n",
        "import statistics"
      ],
      "execution_count": 0,
      "outputs": []
    },
    {
      "metadata": {
        "id": "7wFCHwF64frV",
        "colab_type": "text"
      },
      "cell_type": "markdown",
      "source": [
        "#### Load Data"
      ]
    },
    {
      "metadata": {
        "id": "bGF50aDE4hYR",
        "colab_type": "code",
        "colab": {}
      },
      "cell_type": "code",
      "source": [
        "# Set header column names\n",
        "column_names = ['Scn','A2','A3','A4','A5','A6','A7','A8','A9','A10','CLASS']\n",
        "\n",
        "# Set NA character\n",
        "na_value_char = '?' \n",
        "\n",
        "# Load data file into pandas Dataframe, and replace '?' chars with NaN\n",
        "df = pd.read_csv('breast-cancer-wisconsin.data', names=column_names, na_values=na_value_char)\n",
        "\n",
        "# Check the number of NaN values in the DataFrame\n",
        "print(df.isnull().sum())\n",
        "\n",
        "# Inspect data\n",
        "print(df.head(n=20))"
      ],
      "execution_count": 0,
      "outputs": []
    },
    {
      "metadata": {
        "id": "EnVN19B4GQ_l",
        "colab_type": "text"
      },
      "cell_type": "markdown",
      "source": [
        "#### Impute missing values"
      ]
    },
    {
      "metadata": {
        "id": "cO7cEIXjMDb-",
        "colab_type": "code",
        "colab": {}
      },
      "cell_type": "code",
      "source": [
        "# Validate column A7 is float (before replacing with mean)\n",
        "print('\\n Column A7 is datatype {0}'.format(df['A7'].dtypes))\n",
        "\n",
        "# Replace NaN values with the mean value in column A7\n",
        "df['A7'].fillna((df['A7'].mean()), inplace=True)\n",
        "\n",
        "# Validate column A7 is float (after replacing with mean)\n",
        "print('\\n Column A7 is datatype {0}'.format(df['A7'].dtypes))"
      ],
      "execution_count": 0,
      "outputs": []
    },
    {
      "metadata": {
        "id": "R9mygH6bObpi",
        "colab_type": "text"
      },
      "cell_type": "markdown",
      "source": [
        "#### Explore Dataset"
      ]
    },
    {
      "metadata": {
        "id": "W1Q5qMqYOsrx",
        "colab_type": "code",
        "colab": {}
      },
      "cell_type": "code",
      "source": [
        "# Provide the summary statistics\n",
        "print('\\nProvide the summary statistics:')\n",
        "print(df.describe())\n",
        "\n",
        "# Find number of columns and number of rows\n",
        "print('\\nThe Dataframe has {0} rows, and {1} columns'.format(df.shape[0], df.shape[1]))\n",
        "\n",
        "# Report how many unique values in each column\n",
        "for column in column_names:\n",
        "  print('\\nColumn {0} has {1} unique values.'.format(column, len(df[column].unique())))"
      ],
      "execution_count": 0,
      "outputs": []
    },
    {
      "metadata": {
        "id": "HJVBE9mo4lZu",
        "colab_type": "text"
      },
      "cell_type": "markdown",
      "source": [
        "#### Plot basic graphs"
      ]
    },
    {
      "metadata": {
        "id": "b4uROfKQ4kFF",
        "colab_type": "code",
        "colab": {}
      },
      "cell_type": "code",
      "source": [
        "# Draw a bar plot for CLASS\n",
        "\n",
        "\n",
        "# Plot histograms for attributes A2 to A10 (nine histograms)\n",
        "for column in column_names[column_names.index('A2') : column_names.index('A10') + 1]:\n",
        "  df[[column]].plot(kind='hist', bins=30, color=\"b\", alpha=0.5, figsize=(8,4))"
      ],
      "execution_count": 0,
      "outputs": []
    },
    {
      "metadata": {
        "id": "QMlRpI24Rz9y",
        "colab_type": "text"
      },
      "cell_type": "markdown",
      "source": [
        "####Compute data statistics"
      ]
    },
    {
      "metadata": {
        "id": "z8-yq80SR6ZG",
        "colab_type": "code",
        "colab": {}
      },
      "cell_type": "code",
      "source": [
        "# Find the mean, median, standard deviation and variance of each of the attributes A2 to A10.\n",
        "\n",
        "# Set column headers\n",
        "column_headers = ['','Mean','Median','Std. Deviation']\n",
        "\n",
        "# Create array of row data\n",
        "row_data = []\n",
        "\n",
        "# Iterate over dataset and append column statitics to array\n",
        "for column in column_names[column_names.index('A2') : column_names.index('A10') + 1]:\n",
        "  row_data.append([column, df[column].mean(), df[column].median(), df[column].std(ddof=0)])\n",
        "\n",
        "# Convert array to DataFrame\n",
        "stats_df = pd.DataFrame(row_data, columns=column_headers)\n",
        "\n",
        "# Display results\n",
        "print(stats_df)"
      ],
      "execution_count": 0,
      "outputs": []
    }
  ]
}