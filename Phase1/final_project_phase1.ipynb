{
  "nbformat": 4,
  "nbformat_minor": 0,
  "metadata": {
    "colab": {
      "name": "final_project_phase1.ipynb",
      "version": "0.3.2",
      "provenance": [],
      "include_colab_link": true
    },
    "kernelspec": {
      "name": "python3",
      "display_name": "Python 3"
    }
  },
  "cells": [
    {
      "cell_type": "markdown",
      "metadata": {
        "id": "view-in-github",
        "colab_type": "text"
      },
      "source": [
        "[View in Colaboratory](https://colab.research.google.com/github/iu-data-science-python-i590/final-project-team-python-trio/blob/master/Phase1/final_project_phase1.ipynb)"
      ]
    },
    {
      "metadata": {
        "id": "DxijMeBfTQ7V",
        "colab_type": "text"
      },
      "cell_type": "markdown",
      "source": [
        "## Analysis of K-means Clustering on Wisconsin Breast Cancer Data\n",
        "\n",
        "Phase 1.0 | 2018 October 24\n",
        "\n",
        "Bill Screen, Ha-Lan Nguyen, Tarun Rawat | Indiana University | M.S. Data Science\n",
        "\n",
        "#### PROBLEM STATEMENT: \n",
        "Breast cancer is a rising issue among women. A cancer’s stage is a crucial factor in deciding what treatment options to recommend, and in determining the patient’s prognosis. Today, in the United States, approximately one in eight women over their lifetime has a risk of developing breast cancer. An analysis of the most recent data has shown that the survival rate is 88% after 5 years of diagnosis and 80% after 10 years of diagnosis. With early detection and treatment, it is possible that this type of cancer will go into remission. In such a case, the worse fear of a cancer patient is the recurrence of the cancer.\n",
        "\n",
        "#### OBJECTIVE: \n",
        "This report will demonstrate how implementing a \"k-means\" algorithm can be used to classify benign and malign cells in two different groups."
      ]
    },
    {
      "metadata": {
        "id": "j57mczOMTMHv",
        "colab_type": "code",
        "outputId": "f74d2761-74f6-49a4-8661-aa6b2e4262b1",
        "colab": {
          "base_uri": "https://localhost:8080/",
          "height": 34
        }
      },
      "cell_type": "code",
      "source": [
        "print(''.join(map(str,range(10))))"
      ],
      "execution_count": 0,
      "outputs": [
        {
          "output_type": "stream",
          "text": [
            "0123456789\n"
          ],
          "name": "stdout"
        }
      ]
    }
  ]
}
