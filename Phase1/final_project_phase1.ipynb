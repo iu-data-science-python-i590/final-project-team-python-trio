{
  "nbformat": 4,
  "nbformat_minor": 0,
  "metadata": {
    "colab": {
      "name": "final_project_phase1.ipynb",
      "version": "0.3.2",
      "provenance": [],
      "toc_visible": true,
      "include_colab_link": true
    },
    "kernelspec": {
      "name": "python3",
      "display_name": "Python 3"
    }
  },
  "cells": [
    {
      "cell_type": "markdown",
      "metadata": {
        "id": "view-in-github",
        "colab_type": "text"
      },
      "source": [
        "<a href=\"https://colab.research.google.com/github/iu-data-science-python-i590/final-project-team-python-trio/blob/master/Phase1/final_project_phase1.ipynb\" target=\"_parent\"><img src=\"https://colab.research.google.com/assets/colab-badge.svg\" alt=\"Open In Colab\"/></a>"
      ]
    },
    {
      "metadata": {
        "id": "DxijMeBfTQ7V",
        "colab_type": "text"
      },
      "cell_type": "markdown",
      "source": [
        "## Analysis of K-means Clustering on Wisconsin Breast Cancer Data\n",
        "\n",
        "Phase 1.0 | 2018 October 24\n",
        "\n",
        "Bill Screen, Ha-Lan Nguyen, Tarun Rawat | Indiana University | M.S. Data Science\n",
        "\n",
        "#### PROBLEM STATEMENT: \n",
        "Breast cancer is a rising issue among women. A cancer’s stage is a crucial factor in deciding what treatment options to recommend, and in determining the patient’s prognosis. Today, in the United States, approximately one in eight women over their lifetime has a risk of developing breast cancer. An analysis of the most recent data has shown that the survival rate is 88% after 5 years of diagnosis and 80% after 10 years of diagnosis. With early detection and treatment, it is possible that this type of cancer will go into remission. In such a case, the worse fear of a cancer patient is the recurrence of the cancer.\n",
        "\n",
        "#### OBJECTIVE: \n",
        "This report will demonstrate how implementing a \"k-means\" algorithm can be used to classify benign and malign cells in two different groups.\n",
        "\n",
        "#### PHASE 1 TASKS\n",
        "\n",
        "- Download the data and load it in Python\n",
        "- Add Headers (Scn A2 A3 A4 A5 A6 A7 A8 A9 A10 CLASS)\n",
        "- Impute missing values \n",
        "- Plot basic graphs\n",
        "- Compute data statistics\n",
        "---"
      ]
    },
    {
      "metadata": {
        "id": "Widhoq_94H_G",
        "colab_type": "text"
      },
      "cell_type": "markdown",
      "source": [
        "#### Import Libraries"
      ]
    },
    {
      "metadata": {
        "id": "WTckRS3E4Tpx",
        "colab_type": "code",
        "colab": {}
      },
      "cell_type": "code",
      "source": [
        "# Import Libraries\n",
        "# %matplotlib inline\n",
        "import pandas as pd\n",
        "# import pylab as plt\n",
        "import matplotlib.pyplot as plt\n",
        "import numpy as np\n",
        "import statistics"
      ],
      "execution_count": 0,
      "outputs": []
    },
    {
      "metadata": {
        "id": "7wFCHwF64frV",
        "colab_type": "text"
      },
      "cell_type": "markdown",
      "source": [
        "#### Load Data"
      ]
    },
    {
      "metadata": {
        "id": "bGF50aDE4hYR",
        "colab_type": "code",
        "colab": {}
      },
      "cell_type": "code",
      "source": [
        "# Set header column names\n",
        "column_names = ['Scn','A2','A3','A4','A5','A6','A7','A8','A9','A10','CLASS']\n",
        "\n",
        "# Load data file into pandas Dataframe\n",
        "df = pd.read_csv('breast-cancer-wisconsin.data', names=column_names)\n",
        "\n",
        "# Inspect data\n",
        "print(df.head(n=120))"
      ],
      "execution_count": 0,
      "outputs": []
    },
    {
      "metadata": {
        "id": "EnVN19B4GQ_l",
        "colab_type": "text"
      },
      "cell_type": "markdown",
      "source": [
        "#### Impute missing values"
      ]
    },
    {
      "metadata": {
        "id": "cO7cEIXjMDb-",
        "colab_type": "code",
        "colab": {}
      },
      "cell_type": "code",
      "source": [
        "# Set NA character\n",
        "na_value_char = '?' \n",
        "\n",
        "# Replace ? by NaN in column A7\n",
        "df['A7'].replace(na_value_char, value=np.NaN, inplace=True)\n",
        "\n",
        "# Convert column A7 back to numeric\n",
        "df['A7'] = pd.to_numeric(df['A7'])\n",
        "\n",
        "# Check the number of NaN values in the DataFrame\n",
        "print('\\n Column A7 contains {0} NaN rows'.format(df['A7'].isnull().sum()))\n",
        "\n",
        "# Replace NaN values with the mean of column A7 to the entire DataFrame\n",
        "df.fillna((df.mean(skipna=True)), inplace=True)\n",
        "\n",
        "# Convert all columns of DataFrame\n",
        "df = df.apply(pd.to_numeric)"
      ],
      "execution_count": 0,
      "outputs": []
    },
    {
      "metadata": {
        "id": "R9mygH6bObpi",
        "colab_type": "text"
      },
      "cell_type": "markdown",
      "source": [
        "#### Explore Dataset"
      ]
    },
    {
      "metadata": {
        "id": "W1Q5qMqYOsrx",
        "colab_type": "code",
        "colab": {}
      },
      "cell_type": "code",
      "source": [
        "# Provide the summary statistics using the describe() function\n",
        "print('\\nDataFrame Summary Statistics:')\n",
        "print(df.describe())\n",
        "\n",
        "# Find number of columns and number of rows\n",
        "print('\\nThe Dataframe has {0} rows, and {1} columns'.format(df.shape[0], df.shape[1]))\n",
        "\n",
        "# Report how many unique values in each column\n",
        "for column in column_names:\n",
        "  print('\\nColumn {0} has {1} unique values.'.format(column, len(df[column].unique())))"
      ],
      "execution_count": 0,
      "outputs": []
    },
    {
      "metadata": {
        "id": "QMlRpI24Rz9y",
        "colab_type": "text"
      },
      "cell_type": "markdown",
      "source": [
        "####Compute data statistics"
      ]
    },
    {
      "metadata": {
        "id": "z8-yq80SR6ZG",
        "colab_type": "code",
        "colab": {}
      },
      "cell_type": "code",
      "source": [
        "# Find the mean, median, standard deviation and variance of each of the attributes A2 to A10.\n",
        "\n",
        "# Set column headers\n",
        "column_headers = ['','Mean','Median','Std. Deviation']\n",
        "\n",
        "# Create array of row data\n",
        "row_data = []\n",
        "\n",
        "# Iterate over dataset and append column statitics to array\n",
        "for column in column_names[column_names.index('A2') : column_names.index('A10') + 1]:\n",
        "  row_data.append([column, df[column].mean(), df[column].median(), df[column].std(ddof=0)])\n",
        "\n",
        "# Convert array to DataFrame\n",
        "stats_df = pd.DataFrame(row_data, columns=column_headers)\n",
        "\n",
        "# Display results\n",
        "print(stats_df)"
      ],
      "execution_count": 0,
      "outputs": []
    },
    {
      "metadata": {
        "id": "HJVBE9mo4lZu",
        "colab_type": "text"
      },
      "cell_type": "markdown",
      "source": [
        "#### Plot basic graphs"
      ]
    },
    {
      "metadata": {
        "id": "b4uROfKQ4kFF",
        "colab_type": "code",
        "colab": {}
      },
      "cell_type": "code",
      "source": [
        "# Plot histograms for attributes A2 to A10 (nine histograms)\n",
        "index_A2 = list(df.columns).index('A2')\n",
        "index_A10 = list(df.columns).index('A10') + 1\n",
        "\n",
        "# Turn grid off in histograms \n",
        "hist = df.iloc[:, index_A2:index_A10].hist(bins=20, color=\"g\", alpha=0.5, grid=False)\n",
        "\n",
        "# Adjust layout to fit better\n",
        "plt.tight_layout(rect=(0, 0, 1.2, 1.2))\n",
        "plt.show()\n",
        "\n",
        "# Draw a bar plot for CLASS to see counts of benign and malignant values \n",
        "df.groupby('CLASS')['CLASS'].count().plot.bar()\n",
        "plt.title('Benign and Malignant Class Counts')\n",
        "plt.xlabel('Class (2 for benign, 4 for malignant)')\n",
        "plt.ylabel('Totals')\n",
        "plt.show()\n",
        "\n",
        "# Draw a scatterplot of any two columns\n",
        "\n",
        "# 1. Bare and Normal Nuclei\n",
        "df.plot.scatter(x='A7', y='A9', c='Green')\n",
        "plt.title('Bare and Normal Nuclei')\n",
        "plt.xlabel('Bare Nuclei (A7)')\n",
        "plt.ylabel('Normal Nuclei (A9)')\n",
        "plt.show()\n",
        "\n",
        "# 2. Clump Thickness and Marginal Adhesion\n",
        "df.plot.scatter(x='A2', y='A5', c='green')\n",
        "plt.title('Clump Thickness and Marginal Adhesion')\n",
        "plt.xlabel('Clump Thickness (A2)')\n",
        "plt.ylabel('Marginal Adhesion (A5)')\n",
        "plt.show()"
      ],
      "execution_count": 0,
      "outputs": []
    },
    {
      "metadata": {
        "id": "wHhUYldTvdvH",
        "colab_type": "text"
      },
      "cell_type": "markdown",
      "source": [
        "#### SUMMARY\n",
        "\n",
        "Summarize by reporting which values might need standardization in the future (too much variation) and any other observations that you may discover as a Data Scientist.\n"
      ]
    }
  ]
}