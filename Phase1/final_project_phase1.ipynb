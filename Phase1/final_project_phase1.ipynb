{
 "cells": [
  {
   "cell_type": "markdown",
   "metadata": {
    "colab_type": "text",
    "id": "view-in-github"
   },
   "source": [
    "[View in Colaboratory](https://colab.research.google.com/github/iu-data-science-python-i590/final-project-team-python-trio/blob/master/Phase1/final_project_phase1.ipynb)"
   ]
  },
  {
   "cell_type": "markdown",
   "metadata": {
    "colab_type": "text",
    "id": "DxijMeBfTQ7V"
   },
   "source": [
    "## Analysis of K-means Clustering on Wisconsin Breast Cancer Data\n",
    "\n",
    "Phase 1.0 | 2018 October 24\n",
    "\n",
    "Bill Screen, Ha-Lan Nguyen, Tarun Rawat | Indiana University | M.S. Data Science\n",
    "\n",
    "#### PROBLEM STATEMENT: \n",
    "Breast cancer is a rising issue among women. A cancer’s stage is a crucial factor in deciding what treatment options to recommend, and in determining the patient’s prognosis. Today, in the United States, approximately one in eight women over their lifetime has a risk of developing breast cancer. An analysis of the most recent data has shown that the survival rate is 88% after 5 years of diagnosis and 80% after 10 years of diagnosis. With early detection and treatment, it is possible that this type of cancer will go into remission. In such a case, the worse fear of a cancer patient is the recurrence of the cancer.\n",
    "\n",
    "#### OBJECTIVE: \n",
    "This report will demonstrate how implementing a \"k-means\" algorithm can be used to classify benign and malign cells in two different groups."
   ]
  },
  {
   "cell_type": "code",
   "execution_count": 198,
   "metadata": {
    "colab": {},
    "colab_type": "code",
    "id": "2DuHarnpXKlw"
   },
   "outputs": [],
   "source": [
    "# Import Libraries\n",
    "# %matplotlib inline\n",
    "import pandas as pd\n",
    "# import pylab as plt\n",
    "import matplotlib.pyplot as plt\n",
    "import numpy as np\n",
    "import statistics"
   ]
  },
  {
   "cell_type": "markdown",
   "metadata": {},
   "source": [
    "### Load Data"
   ]
  },
  {
   "cell_type": "code",
   "execution_count": 199,
   "metadata": {},
   "outputs": [
    {
     "name": "stdout",
     "output_type": "stream",
     "text": [
      "Column Names from the data file\n",
      "['Scn', 'A2', 'A3', 'A4', 'A5', 'A6', 'A7', 'A8', 'A9', 'A10', 'CLASS']\n",
      "\n",
      "         Scn  A2  A3  A4  A5  A6  A7  A8  A9  A10  CLASS\n",
      "0    1000025   5   1   1   1   2   1   3   1    1      2\n",
      "1    1002945   5   4   4   5   7  10   3   2    1      2\n",
      "2    1015425   3   1   1   1   2   2   3   1    1      2\n",
      "3    1016277   6   8   8   1   3   4   3   7    1      2\n",
      "4    1017023   4   1   1   3   2   1   3   1    1      2\n",
      "5    1017122   8  10  10   8   7  10   9   7    1      4\n",
      "6    1018099   1   1   1   1   2  10   3   1    1      2\n",
      "7    1018561   2   1   2   1   2   1   3   1    1      2\n",
      "8    1033078   2   1   1   1   2   1   1   1    5      2\n",
      "9    1033078   4   2   1   1   2   1   2   1    1      2\n",
      "10   1035283   1   1   1   1   1   1   3   1    1      2\n",
      "11   1036172   2   1   1   1   2   1   2   1    1      2\n",
      "12   1041801   5   3   3   3   2   3   4   4    1      4\n",
      "13   1043999   1   1   1   1   2   3   3   1    1      2\n",
      "14   1044572   8   7   5  10   7   9   5   5    4      4\n",
      "15   1047630   7   4   6   4   6   1   4   3    1      4\n",
      "16   1048672   4   1   1   1   2   1   2   1    1      2\n",
      "17   1049815   4   1   1   1   2   1   3   1    1      2\n",
      "18   1050670  10   7   7   6   4  10   4   1    2      4\n",
      "19   1050718   6   1   1   1   2   1   3   1    1      2\n",
      "20   1054590   7   3   2  10   5  10   5   4    4      4\n",
      "21   1054593  10   5   5   3   6   7   7  10    1      4\n",
      "22   1056784   3   1   1   1   2   1   2   1    1      2\n",
      "23   1057013   8   4   5   1   2   ?   7   3    1      4\n",
      "24   1059552   1   1   1   1   2   1   3   1    1      2\n",
      "25   1065726   5   2   3   4   2   7   3   6    1      4\n",
      "26   1066373   3   2   1   1   1   1   2   1    1      2\n",
      "27   1066979   5   1   1   1   2   1   2   1    1      2\n",
      "28   1067444   2   1   1   1   2   1   2   1    1      2\n",
      "29   1070935   1   1   3   1   2   1   1   1    1      2\n",
      "..       ...  ..  ..  ..  ..  ..  ..  ..  ..  ...    ...\n",
      "90   1156272   1   1   1   1   2   1   3   1    1      2\n",
      "91   1156948   3   1   1   2   2   1   1   1    1      2\n",
      "92   1157734   4   1   1   1   2   1   3   1    1      2\n",
      "93   1158247   1   1   1   1   2   1   2   1    1      2\n",
      "94   1160476   2   1   1   1   2   1   3   1    1      2\n",
      "95   1164066   1   1   1   1   2   1   3   1    1      2\n",
      "96   1165297   2   1   1   2   2   1   1   1    1      2\n",
      "97   1165790   5   1   1   1   2   1   3   1    1      2\n",
      "98   1165926   9   6   9   2  10   6   2   9   10      4\n",
      "99   1166630   7   5   6  10   5  10   7   9    4      4\n",
      "100  1166654  10   3   5   1  10   5   3  10    2      4\n",
      "101  1167439   2   3   4   4   2   5   2   5    1      4\n",
      "102  1167471   4   1   2   1   2   1   3   1    1      2\n",
      "103  1168359   8   2   3   1   6   3   7   1    1      4\n",
      "104  1168736  10  10  10  10  10   1   8   8    8      4\n",
      "105  1169049   7   3   4   4   3   3   3   2    7      4\n",
      "106  1170419  10  10  10   8   2  10   4   1    1      4\n",
      "107  1170420   1   6   8  10   8  10   5   7    1      4\n",
      "108  1171710   1   1   1   1   2   1   2   3    1      2\n",
      "109  1171710   6   5   4   4   3   9   7   8    3      4\n",
      "110  1171795   1   3   1   2   2   2   5   3    2      2\n",
      "111  1171845   8   6   4   3   5   9   3   1    1      4\n",
      "112  1172152  10   3   3  10   2  10   7   3    3      4\n",
      "113  1173216  10  10  10   3  10   8   8   1    1      4\n",
      "114  1173235   3   3   2   1   2   3   3   1    1      2\n",
      "115  1173347   1   1   1   1   2   5   1   1    1      2\n",
      "116  1173347   8   3   3   1   2   2   3   2    1      2\n",
      "117  1173509   4   5   5  10   4  10   7   5    8      4\n",
      "118  1173514   1   1   1   1   4   3   1   1    1      2\n",
      "119  1173681   3   2   1   1   2   2   3   1    1      2\n",
      "\n",
      "[120 rows x 11 columns]\n"
     ]
    }
   ],
   "source": [
    "# Set header column names\n",
    "#column_names = ['Scn','A2','A3','A4','A5','A6','A7','A8','A9','A10','CLASS']\n",
    "\n",
    "# Load data file into pandas Dataframe\n",
    "#df = pd.read_csv('breast-cancer-wisconsin.data', names=column_names)\n",
    "df = pd.read_csv('breast-cancer-wisconsin.csv')\n",
    "\n",
    "column_names = df.columns.tolist()\n",
    "print('Column Names from the data file')\n",
    "print(str(column_names) + '\\n')\n",
    "\n",
    "# Inspect data\n",
    "print(df.head(n=120))"
   ]
  },
  {
   "cell_type": "markdown",
   "metadata": {},
   "source": [
    "### Impute missing values"
   ]
  },
  {
   "cell_type": "code",
   "execution_count": 200,
   "metadata": {},
   "outputs": [
    {
     "name": "stdout",
     "output_type": "stream",
     "text": [
      "\n",
      " Column A7 contains 0 NaN rows before replacement\n",
      "\n",
      " Column A7 contains 16 NaN rows after replacement\n",
      "\n",
      " Column A7 contains 0 NaN rows after replacement of NaN with Mean\n"
     ]
    }
   ],
   "source": [
    "# Set NA character\n",
    "na_value_char = '?' \n",
    "\n",
    "# Check the number of NaN values in the DataFrame before replacement of ? with NaN\n",
    "print('\\n Column A7 contains {0} NaN rows before replacement'.format(df['A7'].isnull().sum()))\n",
    "\n",
    "# Replace ? by NaN in column A7\n",
    "df['A7'].replace(na_value_char, value=np.NaN, inplace=True)\n",
    "\n",
    "# Convert column A7 back to numeric\n",
    "df['A7'] = pd.to_numeric(df['A7'])\n",
    "\n",
    "# Check the number of NaN values in the DataFrame after replacement of ? with NaN\n",
    "print('\\n Column A7 contains {0} NaN rows after replacement'.format(df['A7'].isnull().sum()))\n",
    "\n",
    "# Replace NaN values with the mean of column A7 to the entire DataFrame\n",
    "df.fillna((df.mean(skipna=True)), inplace=True)\n",
    "\n",
    "# Convert all columns of DataFrame\n",
    "df = df.apply(pd.to_numeric)\n",
    "\n",
    "# Check the number of NaN values in the DataFrame after replacement of NaN with Mean\n",
    "print('\\n Column A7 contains {0} NaN rows after replacement of NaN with Mean'.format(df['A7'].isnull().sum()))"
   ]
  },
  {
   "cell_type": "markdown",
   "metadata": {},
   "source": [
    "### Explore Dataset"
   ]
  },
  {
   "cell_type": "code",
   "execution_count": 201,
   "metadata": {},
   "outputs": [
    {
     "name": "stdout",
     "output_type": "stream",
     "text": [
      "\n",
      "DataFrame Summary Statistics:\n",
      "                Scn          A2          A3          A4          A5  \\\n",
      "count  6.990000e+02  699.000000  699.000000  699.000000  699.000000   \n",
      "mean   1.071704e+06    4.417740    3.134478    3.207439    2.806867   \n",
      "std    6.170957e+05    2.815741    3.051459    2.971913    2.855379   \n",
      "min    6.163400e+04    1.000000    1.000000    1.000000    1.000000   \n",
      "25%    8.706885e+05    2.000000    1.000000    1.000000    1.000000   \n",
      "50%    1.171710e+06    4.000000    1.000000    1.000000    1.000000   \n",
      "75%    1.238298e+06    6.000000    5.000000    5.000000    4.000000   \n",
      "max    1.345435e+07   10.000000   10.000000   10.000000   10.000000   \n",
      "\n",
      "               A6          A7          A8          A9         A10       CLASS  \n",
      "count  699.000000  699.000000  699.000000  699.000000  699.000000  699.000000  \n",
      "mean     3.216023    3.544656    3.437768    2.866953    1.589413    2.689557  \n",
      "std      2.214300    3.601852    2.438364    3.053634    1.715078    0.951273  \n",
      "min      1.000000    1.000000    1.000000    1.000000    1.000000    2.000000  \n",
      "25%      2.000000    1.000000    2.000000    1.000000    1.000000    2.000000  \n",
      "50%      2.000000    1.000000    3.000000    1.000000    1.000000    2.000000  \n",
      "75%      4.000000    5.000000    5.000000    4.000000    1.000000    4.000000  \n",
      "max     10.000000   10.000000   10.000000   10.000000   10.000000    4.000000  \n",
      "\n",
      "The Dataframe has 699 rows, and 11 columns\n",
      "\n",
      "Column Scn has 645 unique values.\n",
      "\n",
      "Column A2 has 10 unique values.\n",
      "\n",
      "Column A3 has 10 unique values.\n",
      "\n",
      "Column A4 has 10 unique values.\n",
      "\n",
      "Column A5 has 10 unique values.\n",
      "\n",
      "Column A6 has 10 unique values.\n",
      "\n",
      "Column A7 has 11 unique values.\n",
      "\n",
      "Column A8 has 10 unique values.\n",
      "\n",
      "Column A9 has 10 unique values.\n",
      "\n",
      "Column A10 has 9 unique values.\n",
      "\n",
      "Column CLASS has 2 unique values.\n"
     ]
    }
   ],
   "source": [
    "# Provide the summary statistics using the describe() function\n",
    "print('\\nDataFrame Summary Statistics:')\n",
    "print(df.describe())\n",
    "\n",
    "# Find number of columns and number of rows\n",
    "print('\\nThe Dataframe has {0} rows, and {1} columns'.format(df.shape[0], df.shape[1]))\n",
    "\n",
    "# Report how many unique values in each column\n",
    "for column in column_names:\n",
    "  print('\\nColumn {0} has {1} unique values.'.format(column, len(df[column].unique()))) "
   ]
  },
  {
   "cell_type": "markdown",
   "metadata": {},
   "source": [
    "### Compute data statistics"
   ]
  },
  {
   "cell_type": "code",
   "execution_count": 202,
   "metadata": {},
   "outputs": [
    {
     "name": "stdout",
     "output_type": "stream",
     "text": [
      "                 Mean  Median  Std. Deviation   Variance  Std. Deviation/Mean\n",
      "Column Name                                                                  \n",
      "A2           4.417740     4.0        2.815741   7.928395                 0.64\n",
      "A3           3.134478     1.0        3.051459   9.311403                 0.97\n",
      "A4           3.207439     1.0        2.971913   8.832265                 0.93\n",
      "A5           2.806867     1.0        2.855379   8.153191                 1.02\n",
      "A6           3.216023     2.0        2.214300   4.903124                 0.69\n",
      "A7           3.544656     1.0        3.601852  12.973335                 1.02\n",
      "A8           3.437768     3.0        2.438364   5.945620                 0.71\n",
      "A9           2.866953     1.0        3.053634   9.324680                 1.07\n",
      "A10          1.589413     1.0        1.715078   2.941492                 1.08\n"
     ]
    }
   ],
   "source": [
    "# Find the mean, median, standard deviation and variance of each of the attributes A2 to A10.\n",
    "\n",
    "# Set column headers\n",
    "column_headers = ['Column Name','Mean','Median','Std. Deviation', 'Variance', 'Std. Deviation/Mean']\n",
    "\n",
    "# Create array of row data\n",
    "row_data = []\n",
    "\n",
    "# Iterate over dataset and append column statitics to array\n",
    "for column in column_names[column_names.index('A2') : column_names.index('A10') + 1]:\n",
    "  row_data.append([column, df[column].mean(), df[column].median(), df[column].std(), df[column].var(), \n",
    "                   round(df[column].std()/df[column].mean(),2)])\n",
    "\n",
    "# Convert array to DataFrame\n",
    "stats_df = pd.DataFrame(row_data, columns=column_headers)\n",
    "stats_df.set_index('Column Name', inplace=True)\n",
    "\n",
    "# Display results\n",
    "print(stats_df)"
   ]
  },
  {
   "cell_type": "markdown",
   "metadata": {},
   "source": [
    "### Plot basic graphs"
   ]
  },
  {
   "cell_type": "markdown",
   "metadata": {},
   "source": [
    "#### Histogram"
   ]
  },
  {
   "cell_type": "code",
   "execution_count": 203,
   "metadata": {},
   "outputs": [
    {
     "data": {
      "image/png": "[encoded data removed]",
      "text/plain": [
       "<Figure size 432x288 with 9 Axes>"
      ]
     },
     "metadata": {
      "needs_background": "light"
     },
     "output_type": "display_data"
    }
   ],
   "source": [
    "# Plot histograms for attributes A2 to A10 (nine histograms)\n",
    "index_A2 = list(df.columns).index('A2')\n",
    "index_A10 = list(df.columns).index('A10') + 1\n",
    "\n",
    "#print('Histograms')\n",
    "\n",
    "# Turn grid off in histograms \n",
    "hist = df.iloc[:, index_A2:index_A10].hist(bins=20, color=\"g\", alpha=0.5, grid=False)\n",
    "\n",
    "# Adjust layout to fit better\n",
    "plt.tight_layout(rect=(0, 0, 1.2, 1.2))\n",
    "plt.show()"
   ]
  },
  {
   "cell_type": "markdown",
   "metadata": {},
   "source": [
    "#### Bar Plot"
   ]
  },
  {
   "cell_type": "code",
   "execution_count": 204,
   "metadata": {},
   "outputs": [
    {
     "name": "stdout",
     "output_type": "stream",
     "text": [
      "\n",
      "\n",
      "\n",
      "\n",
      "Bar plot to display the counts of benign and malignant values\n"
     ]
    },
    {
     "data": {
      "image/png": "[encoded data removed]",
      "text/plain": [
       "<Figure size 432x288 with 1 Axes>"
      ]
     },
     "metadata": {
      "needs_background": "light"
     },
     "output_type": "display_data"
    }
   ],
   "source": [
    "# Draw a bar plot for CLASS to see counts of benign and malignant values \n",
    "print('\\n\\n\\n\\nBar plot to display the counts of benign and malignant values')\n",
    "df.groupby('CLASS').size().plot.bar()\n",
    "plt.title('Benign and Malignant Class Counts')\n",
    "plt.xlabel('Class (2 for benign, 4 for malignant)')\n",
    "plt.ylabel('Totals')\n",
    "plt.show()"
   ]
  },
  {
   "cell_type": "markdown",
   "metadata": {},
   "source": [
    "### Scatter Plots"
   ]
  },
  {
   "cell_type": "code",
   "execution_count": 205,
   "metadata": {},
   "outputs": [
    {
     "name": "stdout",
     "output_type": "stream",
     "text": [
      "\n",
      "\n",
      "Bare and Normal Nuclei\n"
     ]
    },
    {
     "data": {
      "image/png": "[encoded data removed]",
      "text/plain": [
       "<Figure size 432x288 with 1 Axes>"
      ]
     },
     "metadata": {
      "needs_background": "light"
     },
     "output_type": "display_data"
    },
    {
     "name": "stdout",
     "output_type": "stream",
     "text": [
      "\n",
      "\n",
      "\n",
      "Clump Thickness and Marginal Adhesion\n"
     ]
    },
    {
     "data": {
      "image/png": "[encoded data removed]",
      "text/plain": [
       "<Figure size 432x288 with 1 Axes>"
      ]
     },
     "metadata": {
      "needs_background": "light"
     },
     "output_type": "display_data"
    }
   ],
   "source": [
    "# Draw a scatterplot of any two columns\n",
    "# 1. Bare and Normal Nuclei\n",
    "print('\\n\\nBare and Normal Nuclei')\n",
    "df.plot.scatter(x='A7', y='A9', c='Green')\n",
    "plt.title('Bare and Normal Nuclei')\n",
    "plt.xlabel('Bare Nuclei (A7)')\n",
    "plt.ylabel('Normal Nuclei (A9)')\n",
    "plt.axis('equal')\n",
    "plt.show()\n",
    "\n",
    " \n",
    "# 2. Clump Thickness and Marginal Adhesion\n",
    "print('\\n\\n\\nClump Thickness and Marginal Adhesion')\n",
    "# df.plot.scatter(x='A2', y='A5', c='green')\n",
    "plt.scatter(df['A2'], df['A5'])\n",
    "plt.title('Clump Thickness and Marginal Adhesion')\n",
    "plt.xlabel('Clump Thickness (A2)')\n",
    "plt.ylabel('Marginal Adhesion (A5)')\n",
    "plt.axis('equal')\n",
    "plt.show()\n"
   ]
  },
  {
   "cell_type": "markdown",
   "metadata": {},
   "source": [
    "### Observations and Summary"
   ]
  },
  {
   "cell_type": "markdown",
   "metadata": {},
   "source": [
    "##### High Correlation Columns"
   ]
  },
  {
   "cell_type": "code",
   "execution_count": 206,
   "metadata": {},
   "outputs": [
    {
     "name": "stdout",
     "output_type": "stream",
     "text": [
      "Identifying Columns with correlation greater than 0.75 and P Value less than 0.05\n",
      "\n",
      "\n",
      "The P-Value of A3 and A4 is: 8.388647422518441e-264\n",
      "The Corr value of A3 and A4 is: 0.91\n"
     ]
    },
    {
     "data": {
      "image/png": "[encoded data removed]",
      "text/plain": [
       "<Figure size 432x288 with 1 Axes>"
      ]
     },
     "metadata": {
      "needs_background": "light"
     },
     "output_type": "display_data"
    },
    {
     "name": "stdout",
     "output_type": "stream",
     "text": [
      "\n",
      "\n",
      "The P-Value of A3 and A6 is: 3.5222494191442436e-128\n",
      "The Corr value of A3 and A6 is: 0.75\n"
     ]
    },
    {
     "data": {
      "image/png": "[encoded data removed]",
      "text/plain": [
       "<Figure size 432x288 with 1 Axes>"
      ]
     },
     "metadata": {
      "needs_background": "light"
     },
     "output_type": "display_data"
    },
    {
     "name": "stdout",
     "output_type": "stream",
     "text": [
      "\n",
      "\n",
      "The P-Value of A3 and A8 is: 2.967643454111043e-130\n",
      "The Corr value of A3 and A8 is: 0.76\n"
     ]
    },
    {
     "data": {
      "image/png": "[encoded data removed]",
      "text/plain": [
       "<Figure size 432x288 with 1 Axes>"
      ]
     },
     "metadata": {
      "needs_background": "light"
     },
     "output_type": "display_data"
    },
    {
     "name": "stdout",
     "output_type": "stream",
     "text": [
      "\n",
      "\n",
      "The P-Value of A3 and CLASS is: 1.74792449990722e-169\n",
      "The Corr value of A3 and CLASS is: 0.82\n"
     ]
    },
    {
     "data": {
      "image/png": "[encoded data removed]",
      "text/plain": [
       "<Figure size 432x288 with 1 Axes>"
      ]
     },
     "metadata": {
      "needs_background": "light"
     },
     "output_type": "display_data"
    },
    {
     "name": "stdout",
     "output_type": "stream",
     "text": [
      "\n",
      "\n",
      "The P-Value of A4 and CLASS is: 2.9456211578465458e-170\n",
      "The Corr value of A4 and CLASS is: 0.82\n"
     ]
    },
    {
     "data": {
      "image/png": "[encoded data removed]",
      "text/plain": [
       "<Figure size 432x288 with 1 Axes>"
      ]
     },
     "metadata": {
      "needs_background": "light"
     },
     "output_type": "display_data"
    },
    {
     "name": "stdout",
     "output_type": "stream",
     "text": [
      "\n",
      "\n",
      "The P-Value of A7 and CLASS is: 4.1890044636786865e-168\n",
      "The Corr value of A7 and CLASS is: 0.82\n"
     ]
    },
    {
     "data": {
      "image/png": "[encoded data removed]",
      "text/plain": [
       "<Figure size 432x288 with 1 Axes>"
      ]
     },
     "metadata": {
      "needs_background": "light"
     },
     "output_type": "display_data"
    },
    {
     "name": "stdout",
     "output_type": "stream",
     "text": [
      "\n",
      "\n",
      "The P-Value of A8 and CLASS is: 9.849140270229808e-131\n",
      "The Corr value of A8 and CLASS is: 0.76\n"
     ]
    },
    {
     "data": {
      "image/png": "[encoded data removed]",
      "text/plain": [
       "<Figure size 432x288 with 1 Axes>"
      ]
     },
     "metadata": {
      "needs_background": "light"
     },
     "output_type": "display_data"
    }
   ],
   "source": [
    "# FIND SOME INTERESTING CLUSTERS\n",
    "from scipy.stats import pearsonr\n",
    "\n",
    "correlation_lower_limit = 0.75\n",
    "p_value_upper_limit = 0.05\n",
    "\n",
    "print('Identifying Columns with correlation greater than ' + str(correlation_lower_limit)\n",
    "      +' and P Value less than ' + str(p_value_upper_limit))\n",
    "\n",
    "for column1 in column_names:\n",
    "  for column2 in column_names:\n",
    "    correlation, pvalue = pearsonr(df[column1], df[column2])\n",
    "    #print('The P-Value of {0} and {1} is: {2}'.format(column1, column2, pvalue))\n",
    "    #print('The Corr value of {0} and {1} is: {2}'.format(column1, column2, correlation))\n",
    "    if(abs(correlation) > correlation_lower_limit and abs(correlation) < 1.0 and abs(pvalue) <  p_value_upper_limit and column1 < column2):    \n",
    "      print('\\n\\nThe P-Value of {0} and {1} is: {2}'.format(column1, column2, pvalue))\n",
    "      print('The Corr value of {0} and {1} is: {2}'.format(column1, column2, round(correlation,2)))\n",
    "      df.plot.scatter(x=column1, y=column2, c='green')\n",
    "      plt.xlabel(column1)\n",
    "      plt.ylabel(column2)\n",
    "      plt.axis('equal')\n",
    "      plt.show()\n",
    "      \n",
    "# A3 AND A4 look interesting\n",
    "# A8 AND A3 look interesting"
   ]
  },
  {
   "cell_type": "markdown",
   "metadata": {},
   "source": [
    "##### High Variation Columns"
   ]
  },
  {
   "cell_type": "code",
   "execution_count": 207,
   "metadata": {},
   "outputs": [
    {
     "name": "stdout",
     "output_type": "stream",
     "text": [
      "\n",
      "\n",
      "Listing columns with High Variation in values (upper limit of Std. Deviation/ Mean : 0.9 ) which need to be standardized.\n",
      "\n",
      "\n",
      "\n",
      "                 Mean  Std. Deviation  Std. Deviation/Mean\n",
      "Column Name                                               \n",
      "A3           3.134478        3.051459                 0.97\n",
      "A4           3.207439        2.971913                 0.93\n",
      "A5           2.806867        2.855379                 1.02\n",
      "A7           3.544656        3.601852                 1.02\n",
      "A9           2.866953        3.053634                 1.07\n",
      "A10          1.589413        1.715078                 1.08\n"
     ]
    }
   ],
   "source": [
    "Std_Deviation_over_Mean_upper_limit = 0.9\n",
    "\n",
    "print('\\n\\nListing columns with High Variation in values (upper limit of Std. Deviation/ Mean : '\n",
    "      + str(Std_Deviation_over_Mean_upper_limit) + ' ) which need to be standardized.\\n\\n\\n')\n",
    "\n",
    "print(stats_df[stats_df['Std. Deviation/Mean'] > Std_Deviation_over_Mean_upper_limit][['Mean','Std. Deviation','Std. Deviation/Mean']])\n"
   ]
  }
 ],
 "metadata": {
  "colab": {
   "include_colab_link": true,
   "name": "final_project_phase1.ipynb",
   "provenance": [],
   "version": "0.3.2"
  },
  "kernelspec": {
   "display_name": "Python 3",
   "language": "python",
   "name": "python3"
  },
  "language_info": {
   "codemirror_mode": {
    "name": "ipython",
    "version": 3
   },
   "file_extension": ".py",
   "mimetype": "text/x-python",
   "name": "python",
   "nbconvert_exporter": "python",
   "pygments_lexer": "ipython3",
   "version": "3.7.0"
  }
 },
 "nbformat": 4,
 "nbformat_minor": 1
}
